{
 "cells": [
  {
   "cell_type": "code",
   "execution_count": 60,
   "metadata": {
    "collapsed": true
   },
   "outputs": [],
   "source": [
    "import os\n",
    "import glob"
   ]
  },
  {
   "cell_type": "code",
   "execution_count": 61,
   "metadata": {
    "collapsed": false
   },
   "outputs": [],
   "source": [
    "arquivos_e_diretorios = os.listdir('data/')"
   ]
  },
  {
   "cell_type": "code",
   "execution_count": 62,
   "metadata": {
    "collapsed": true
   },
   "outputs": [],
   "source": [
    "diretorios = []"
   ]
  },
  {
   "cell_type": "code",
   "execution_count": 63,
   "metadata": {
    "collapsed": false
   },
   "outputs": [],
   "source": [
    "for arquivo in arquivos_e_diretorios:\n",
    "        if arquivo.find('.tgz') == -1:\n",
    "            diretorios.append(arquivo)"
   ]
  },
  {
   "cell_type": "code",
   "execution_count": 64,
   "metadata": {
    "collapsed": false
   },
   "outputs": [
    {
     "data": {
      "text/plain": [
       "'rubbermaiden-20160714-uqv'"
      ]
     },
     "execution_count": 64,
     "metadata": {},
     "output_type": "execute_result"
    }
   ],
   "source": [
    "diretorios[0]"
   ]
  },
  {
   "cell_type": "code",
   "execution_count": 65,
   "metadata": {
    "collapsed": true
   },
   "outputs": [],
   "source": [
    "waves = []"
   ]
  },
  {
   "cell_type": "code",
   "execution_count": 66,
   "metadata": {
    "collapsed": false
   },
   "outputs": [],
   "source": [
    "for diretorio in diretorios:\n",
    "    for file in glob.glob('data/' + diretorio+'/wav/*.wav'):\n",
    "        waves.append(file)"
   ]
  },
  {
   "cell_type": "code",
   "execution_count": 67,
   "metadata": {
    "collapsed": false
   },
   "outputs": [
    {
     "data": {
      "text/plain": [
       "['data/rubbermaiden-20160714-uqv/wav/064.wav',\n",
       " 'data/rubbermaiden-20160714-uqv/wav/071.wav',\n",
       " 'data/rubbermaiden-20160714-uqv/wav/068.wav',\n",
       " 'data/rubbermaiden-20160714-uqv/wav/063.wav',\n",
       " 'data/rubbermaiden-20160714-uqv/wav/070.wav',\n",
       " 'data/rubbermaiden-20160714-uqv/wav/066.wav',\n",
       " 'data/rubbermaiden-20160714-uqv/wav/067.wav',\n",
       " 'data/rubbermaiden-20160714-uqv/wav/065.wav',\n",
       " 'data/rubbermaiden-20160714-uqv/wav/072.wav',\n",
       " 'data/rubbermaiden-20160714-uqv/wav/069.wav']"
      ]
     },
     "execution_count": 67,
     "metadata": {},
     "output_type": "execute_result"
    }
   ],
   "source": [
    "waves[:10]"
   ]
  },
  {
   "cell_type": "code",
   "execution_count": null,
   "metadata": {
    "collapsed": false
   },
   "outputs": [],
   "source": []
  },
  {
   "cell_type": "code",
   "execution_count": 68,
   "metadata": {
    "collapsed": false
   },
   "outputs": [
    {
     "name": "stdout",
     "output_type": "stream",
     "text": [
      "data/rubbermaiden-20160714-uqv/wav/064.wav 064 De quem é a caneta? \n",
      "\n",
      "data/rubbermaiden-20160714-uqv/wav/071.wav 071 Eu e Pedro andamos a cavalo nos sábados. \n",
      "\n",
      "data/rubbermaiden-20160714-uqv/wav/068.wav 068 Por que você comprou essa revista? \n",
      "\n",
      "data/rubbermaiden-20160714-uqv/wav/063.wav 063 Quando é o seu aniversário? \n",
      "\n",
      "data/rubbermaiden-20160714-uqv/wav/070.wav 070 Eu pago a conta e vocês deixam a gorjeta. \n",
      "\n",
      "data/rubbermaiden-20160714-uqv/wav/066.wav 066 Pode me dar o seu endereço? \n",
      "\n",
      "data/rubbermaiden-20160714-uqv/wav/067.wav 067 Nós não mentimos nunca. \n",
      "\n",
      "data/rubbermaiden-20160714-uqv/wav/065.wav 065 No casamento havia muitas flores. \n",
      "\n",
      "data/rubbermaiden-20160714-uqv/wav/072.wav 072 Na festa, todo mundo estava muito contente. \n",
      "\n",
      "data/rubbermaiden-20160714-uqv/wav/069.wav 069 Está chovendo e eu esqueci o meu guarda-chuva \n",
      "\n"
     ]
    }
   ],
   "source": [
    "for w in waves[:10]:\n",
    "    txt = w[:-11]+'etc/prompts-original'    \n",
    "    numero = w[-7:-4]\n",
    "    try:\n",
    "        for line in open(txt):\n",
    "            if(line.strip().startswith(numero)):\n",
    "                print(w + \" \" + line)\n",
    "    except IOError as e:\n",
    "        print(\"Não encontrou o arquivo:\" + w)"
   ]
  },
  {
   "cell_type": "code",
   "execution_count": null,
   "metadata": {
    "collapsed": true
   },
   "outputs": [],
   "source": []
  },
  {
   "cell_type": "code",
   "execution_count": null,
   "metadata": {
    "collapsed": true
   },
   "outputs": [],
   "source": []
  }
 ],
 "metadata": {
  "anaconda-cloud": {},
  "kernelspec": {
   "display_name": "Python [conda env:teste1]",
   "language": "python",
   "name": "conda-env-teste1-py"
  },
  "language_info": {
   "codemirror_mode": {
    "name": "ipython",
    "version": 2
   },
   "file_extension": ".py",
   "mimetype": "text/x-python",
   "name": "python",
   "nbconvert_exporter": "python",
   "pygments_lexer": "ipython2",
   "version": "2.7.13"
  }
 },
 "nbformat": 4,
 "nbformat_minor": 1
}
