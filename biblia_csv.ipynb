{
  "nbformat": 4,
  "nbformat_minor": 0,
  "metadata": {
    "colab": {
      "name": "biblia_csv.ipynb",
      "version": "0.3.2",
      "provenance": []
    },
    "kernelspec": {
      "display_name": "Python 3",
      "language": "python",
      "name": "python3"
    }
  },
  "cells": [
    {
      "cell_type": "markdown",
      "metadata": {
        "id": "view-in-github",
        "colab_type": "text"
      },
      "source": [
        "[View in Colaboratory](https://colab.research.google.com/github/eurismarpires/exercicios_python/blob/master/biblia_csv.ipynb)"
      ]
    },
    {
      "metadata": {
        "id": "17wFnqBkAbry",
        "colab_type": "code",
        "colab": {}
      },
      "cell_type": "code",
      "source": [
        "import requests\n",
        "from bs4 import BeautifulSoup"
      ],
      "execution_count": 0,
      "outputs": []
    },
    {
      "metadata": {
        "id": "AWpfdHA6Abr3",
        "colab_type": "code",
        "colab": {}
      },
      "cell_type": "code",
      "source": [
        "filePt = \"https://www.wordproject.org/bibles/po/01/1.htm#0\"\n",
        "fileIng = \"https://www.wordproject.org/bibles/kj/01/1.htm#0\""
      ],
      "execution_count": 0,
      "outputs": []
    },
    {
      "metadata": {
        "id": "igImpgapAbr7",
        "colab_type": "code",
        "colab": {}
      },
      "cell_type": "code",
      "source": [
        "page = requests.get(filePt)"
      ],
      "execution_count": 0,
      "outputs": []
    },
    {
      "metadata": {
        "id": "VJ7zN2L6Abr_",
        "colab_type": "code",
        "colab": {},
        "outputId": "dde226cc-180e-4d82-e2c2-f2fa50445f87"
      },
      "cell_type": "code",
      "source": [
        "page"
      ],
      "execution_count": 0,
      "outputs": [
        {
          "output_type": "execute_result",
          "data": {
            "text/plain": [
              "<Response [200]>"
            ]
          },
          "metadata": {
            "tags": []
          },
          "execution_count": 4
        }
      ]
    },
    {
      "metadata": {
        "id": "Mn34-yjWAbsD",
        "colab_type": "code",
        "colab": {}
      },
      "cell_type": "code",
      "source": [
        "soup = BeautifulSoup(page.content, 'html.parser')"
      ],
      "execution_count": 0,
      "outputs": []
    },
    {
      "metadata": {
        "id": "iH2nae33AbsG",
        "colab_type": "code",
        "colab": {}
      },
      "cell_type": "code",
      "source": [
        "p = soup.find_all('p')"
      ],
      "execution_count": 0,
      "outputs": []
    },
    {
      "metadata": {
        "id": "FMJBlcCyAbsI",
        "colab_type": "code",
        "colab": {}
      },
      "cell_type": "code",
      "source": [
        "capitulo = p[2]"
      ],
      "execution_count": 0,
      "outputs": []
    },
    {
      "metadata": {
        "id": "tbWSnOH4AbsL",
        "colab_type": "code",
        "colab": {}
      },
      "cell_type": "code",
      "source": [
        "\n",
        "conteudo = capitulo.contents"
      ],
      "execution_count": 0,
      "outputs": []
    },
    {
      "metadata": {
        "id": "0T6ORSOgAbsO",
        "colab_type": "code",
        "colab": {},
        "outputId": "60e6f6c4-9faf-417d-fa80-e3e20aba9b50"
      },
      "cell_type": "code",
      "source": [
        "conteudo"
      ],
      "execution_count": 0,
      "outputs": [
        {
          "output_type": "execute_result",
          "data": {
            "text/plain": [
              "[<span class=\"verse\" id=\"1\"> 1 </span>,\n",
              " ' No princípio, criou Deus os céus e a terra.\\n',\n",
              " <br/>,\n",
              " <span class=\"verse\" id=\"2\"> 2 </span>,\n",
              " ' E a terra era sem forma e vazia; e havia trevas sobre a face do abismo; e o Espírito de Deus se movia sobre a face das águas.\\n',\n",
              " <br/>,\n",
              " <span class=\"verse\" id=\"3\"> 3 </span>,\n",
              " ' E disse Deus: Haja luz. E houve luz.\\n',\n",
              " <br/>,\n",
              " <span class=\"verse\" id=\"4\"> 4 </span>,\n",
              " ' E viu Deus que era boa a luz; e fez Deus separação entre a luz e as trevas.\\n',\n",
              " <br/>,\n",
              " <span class=\"verse\" id=\"5\"> 5 </span>,\n",
              " ' E Deus chamou à luz Dia; e às trevas chamou Noite. E foi a tarde e a manhã: o dia primeiro.\\n',\n",
              " <br/>,\n",
              " <span class=\"verse\" id=\"6\"> 6 </span>,\n",
              " ' E disse Deus: Haja uma expansão no meio das águas, e haja separação entre águas e águas.\\n',\n",
              " <br/>,\n",
              " <span class=\"verse\" id=\"7\"> 7 </span>,\n",
              " ' E fez Deus a expansão e fez separação entre as águas que estavam debaixo da expansão e as águas que estavam sobre a expansão. E assim foi.\\n',\n",
              " <br/>,\n",
              " <span class=\"verse\" id=\"8\"> 8 </span>,\n",
              " ' E chamou Deus à expansão Céus; e foi a tarde e a manhã: o dia segundo.\\n',\n",
              " <br/>,\n",
              " <span class=\"verse\" id=\"9\"> 9 </span>,\n",
              " ' E disse Deus: Ajuntem-se as águas debaixo dos céus num lugar; e apareça a porção seca. E assim foi.\\n',\n",
              " <br/>,\n",
              " <span class=\"verse\" id=\"10\"> 10 </span>,\n",
              " ' E chamou Deus à porção seca Terra; e ao ajuntamento das águas chamou Mares. E viu Deus que era bom.\\n',\n",
              " <br/>,\n",
              " <span class=\"verse\" id=\"11\"> 11 </span>,\n",
              " ' E disse Deus: Produza a terra erva verde, erva que dê semente, árvore frutífera que dê fruto segundo a sua espécie, cuja semente esteja nela sobre a terra. E assim foi.\\n',\n",
              " <br/>,\n",
              " <span class=\"verse\" id=\"12\"> 12 </span>,\n",
              " ' E a terra produziu erva, erva dando semente conforme a sua espécie e árvore frutífera, cuja semente está nela conforme a sua espécie. E viu Deus que era bom.\\n',\n",
              " <br/>,\n",
              " <span class=\"verse\" id=\"13\"> 13 </span>,\n",
              " ' E foi a tarde e a manhã: o dia terceiro.\\n',\n",
              " <br/>,\n",
              " <span class=\"verse\" id=\"14\"> 14 </span>,\n",
              " ' E disse Deus: Haja luminares na expansão dos céus, para haver separação entre o dia e a noite; e sejam eles para sinais e para tempos determinados e para dias e anos.\\n',\n",
              " <br/>,\n",
              " <span class=\"verse\" id=\"15\"> 15 </span>,\n",
              " ' E sejam para luminares na expansão dos céus, para alumiar a terra. E assim foi.\\n',\n",
              " <br/>,\n",
              " <span class=\"verse\" id=\"16\"> 16 </span>,\n",
              " ' E fez Deus os dois grandes luminares: o luminar maior para governar o dia, e o luminar menor para governar a noite; e fez as estrelas.\\n',\n",
              " <br/>,\n",
              " <span class=\"verse\" id=\"17\"> 17 </span>,\n",
              " ' E Deus os pôs na expansão dos céus para alumiar a terra,\\n',\n",
              " <br/>,\n",
              " <span class=\"verse\" id=\"18\"> 18 </span>,\n",
              " ' e para governar o dia e a noite, e para fazer separação entre a luz e as trevas. E viu Deus que era bom.\\n',\n",
              " <br/>,\n",
              " <span class=\"verse\" id=\"19\"> 19 </span>,\n",
              " ' E foi a tarde e a manhã: o dia quarto.\\n',\n",
              " <br/>,\n",
              " <span class=\"verse\" id=\"20\"> 20 </span>,\n",
              " ' E disse Deus: Produzam as águas abundantemente répteis de alma vivente; e voem as aves sobre a face da expansão dos céus.\\n',\n",
              " <br/>,\n",
              " <span class=\"verse\" id=\"21\"> 21 </span>,\n",
              " ' E Deus criou as grandes baleias, e todo réptil de alma vivente que as águas abundantemente produziram conforme as suas espécies, e toda ave de asas conforme a sua espécie. E viu Deus que era bom.\\n',\n",
              " <br/>,\n",
              " <span class=\"verse\" id=\"22\"> 22 </span>,\n",
              " ' E Deus os abençoou, dizendo: Frutificai, e multiplicai-vos, e enchei as águas nos mares; e as aves se multipliquem na terra.\\n',\n",
              " <br/>,\n",
              " <span class=\"verse\" id=\"23\"> 23 </span>,\n",
              " ' E foi a tarde e a manhã: o dia quinto.\\n',\n",
              " <br/>,\n",
              " <span class=\"verse\" id=\"24\"> 24 </span>,\n",
              " ' E disse Deus: Produza a terra alma vivente conforme a sua espécie; gado, e répteis, e bestas-feras da terra conforme a sua espécie. E assim foi.\\n',\n",
              " <br/>,\n",
              " <span class=\"verse\" id=\"25\"> 25 </span>,\n",
              " ' E fez Deus as bestas-feras da terra conforme a sua espécie, e o gado conforme a sua espécie, e todo o réptil da terra conforme a sua espécie. E viu Deus que era bom.\\n',\n",
              " <br/>,\n",
              " <span class=\"verse\" id=\"26\"> 26 </span>,\n",
              " ' E disse Deus: Façamos o homem à nossa imagem, conforme a nossa semelhança; e domine sobre os peixes do mar, e sobre as aves dos céus, e sobre o gado, e sobre toda a terra, e sobre todo réptil que se move sobre a terra.\\n',\n",
              " <br/>,\n",
              " <span class=\"verse\" id=\"27\"> 27 </span>,\n",
              " ' E criou Deus o homem à sua imagem; à imagem de Deus o criou; macho e fêmea os criou.\\n',\n",
              " <br/>,\n",
              " <span class=\"verse\" id=\"28\"> 28 </span>,\n",
              " ' E Deus os abençoou e Deus lhes disse: Frutificai, e multiplicai-vos, e enchei a terra, e sujeitai-a; e dominai sobre os peixes do mar, e sobre as aves dos céus, e sobre todo o animal que se move sobre a terra.\\n',\n",
              " <br/>,\n",
              " <span class=\"verse\" id=\"29\"> 29 </span>,\n",
              " ' E disse Deus: Eis que vos tenho dado toda erva que dá semente e que está sobre a face de toda a terra e toda árvore em que há fruto de árvore que dá semente; ser-vos-ão para mantimento.\\n',\n",
              " <br/>,\n",
              " <span class=\"verse\" id=\"30\"> 30 </span>,\n",
              " ' E a todo animal da terra, e a toda ave dos céus, e a todo réptil da terra, em que há alma vivente, toda a erva verde lhes será para mantimento. E assim foi.\\n',\n",
              " <br/>,\n",
              " <span class=\"verse\" id=\"31\"> 31 </span>,\n",
              " ' E viu Deus tudo quanto tinha feito, e eis que era muito bom; e foi a tarde e a manhã: o dia sexto.\\n']"
            ]
          },
          "metadata": {
            "tags": []
          },
          "execution_count": 9
        }
      ]
    },
    {
      "metadata": {
        "id": "5bTPoOV-AbsR",
        "colab_type": "code",
        "colab": {}
      },
      "cell_type": "code",
      "source": [
        "pt = []"
      ],
      "execution_count": 0,
      "outputs": []
    },
    {
      "metadata": {
        "id": "VJSO8aPEAbsT",
        "colab_type": "code",
        "colab": {}
      },
      "cell_type": "code",
      "source": [
        "\n",
        "for linha in conteudo:\n",
        "    if (linha.name == None):\n",
        "        pt.append(linha)"
      ],
      "execution_count": 0,
      "outputs": []
    },
    {
      "metadata": {
        "id": "q55Y35_dAbsW",
        "colab_type": "code",
        "colab": {},
        "outputId": "7e65615d-c8fe-4de6-de11-ae9c04c86e1d"
      },
      "cell_type": "code",
      "source": [
        "pt"
      ],
      "execution_count": 0,
      "outputs": [
        {
          "output_type": "execute_result",
          "data": {
            "text/plain": [
              "[' No princípio, criou Deus os céus e a terra.\\n',\n",
              " ' E a terra era sem forma e vazia; e havia trevas sobre a face do abismo; e o Espírito de Deus se movia sobre a face das águas.\\n',\n",
              " ' E disse Deus: Haja luz. E houve luz.\\n',\n",
              " ' E viu Deus que era boa a luz; e fez Deus separação entre a luz e as trevas.\\n',\n",
              " ' E Deus chamou à luz Dia; e às trevas chamou Noite. E foi a tarde e a manhã: o dia primeiro.\\n',\n",
              " ' E disse Deus: Haja uma expansão no meio das águas, e haja separação entre águas e águas.\\n',\n",
              " ' E fez Deus a expansão e fez separação entre as águas que estavam debaixo da expansão e as águas que estavam sobre a expansão. E assim foi.\\n',\n",
              " ' E chamou Deus à expansão Céus; e foi a tarde e a manhã: o dia segundo.\\n',\n",
              " ' E disse Deus: Ajuntem-se as águas debaixo dos céus num lugar; e apareça a porção seca. E assim foi.\\n',\n",
              " ' E chamou Deus à porção seca Terra; e ao ajuntamento das águas chamou Mares. E viu Deus que era bom.\\n',\n",
              " ' E disse Deus: Produza a terra erva verde, erva que dê semente, árvore frutífera que dê fruto segundo a sua espécie, cuja semente esteja nela sobre a terra. E assim foi.\\n',\n",
              " ' E a terra produziu erva, erva dando semente conforme a sua espécie e árvore frutífera, cuja semente está nela conforme a sua espécie. E viu Deus que era bom.\\n',\n",
              " ' E foi a tarde e a manhã: o dia terceiro.\\n',\n",
              " ' E disse Deus: Haja luminares na expansão dos céus, para haver separação entre o dia e a noite; e sejam eles para sinais e para tempos determinados e para dias e anos.\\n',\n",
              " ' E sejam para luminares na expansão dos céus, para alumiar a terra. E assim foi.\\n',\n",
              " ' E fez Deus os dois grandes luminares: o luminar maior para governar o dia, e o luminar menor para governar a noite; e fez as estrelas.\\n',\n",
              " ' E Deus os pôs na expansão dos céus para alumiar a terra,\\n',\n",
              " ' e para governar o dia e a noite, e para fazer separação entre a luz e as trevas. E viu Deus que era bom.\\n',\n",
              " ' E foi a tarde e a manhã: o dia quarto.\\n',\n",
              " ' E disse Deus: Produzam as águas abundantemente répteis de alma vivente; e voem as aves sobre a face da expansão dos céus.\\n',\n",
              " ' E Deus criou as grandes baleias, e todo réptil de alma vivente que as águas abundantemente produziram conforme as suas espécies, e toda ave de asas conforme a sua espécie. E viu Deus que era bom.\\n',\n",
              " ' E Deus os abençoou, dizendo: Frutificai, e multiplicai-vos, e enchei as águas nos mares; e as aves se multipliquem na terra.\\n',\n",
              " ' E foi a tarde e a manhã: o dia quinto.\\n',\n",
              " ' E disse Deus: Produza a terra alma vivente conforme a sua espécie; gado, e répteis, e bestas-feras da terra conforme a sua espécie. E assim foi.\\n',\n",
              " ' E fez Deus as bestas-feras da terra conforme a sua espécie, e o gado conforme a sua espécie, e todo o réptil da terra conforme a sua espécie. E viu Deus que era bom.\\n',\n",
              " ' E disse Deus: Façamos o homem à nossa imagem, conforme a nossa semelhança; e domine sobre os peixes do mar, e sobre as aves dos céus, e sobre o gado, e sobre toda a terra, e sobre todo réptil que se move sobre a terra.\\n',\n",
              " ' E criou Deus o homem à sua imagem; à imagem de Deus o criou; macho e fêmea os criou.\\n',\n",
              " ' E Deus os abençoou e Deus lhes disse: Frutificai, e multiplicai-vos, e enchei a terra, e sujeitai-a; e dominai sobre os peixes do mar, e sobre as aves dos céus, e sobre todo o animal que se move sobre a terra.\\n',\n",
              " ' E disse Deus: Eis que vos tenho dado toda erva que dá semente e que está sobre a face de toda a terra e toda árvore em que há fruto de árvore que dá semente; ser-vos-ão para mantimento.\\n',\n",
              " ' E a todo animal da terra, e a toda ave dos céus, e a todo réptil da terra, em que há alma vivente, toda a erva verde lhes será para mantimento. E assim foi.\\n',\n",
              " ' E viu Deus tudo quanto tinha feito, e eis que era muito bom; e foi a tarde e a manhã: o dia sexto.\\n']"
            ]
          },
          "metadata": {
            "tags": []
          },
          "execution_count": 12
        }
      ]
    },
    {
      "metadata": {
        "id": "l7cZkXncAbsa",
        "colab_type": "code",
        "colab": {}
      },
      "cell_type": "code",
      "source": [
        "page2 = requests.get(fileIng)"
      ],
      "execution_count": 0,
      "outputs": []
    },
    {
      "metadata": {
        "id": "lcpqUDFeAbsd",
        "colab_type": "code",
        "colab": {}
      },
      "cell_type": "code",
      "source": [
        "soup2 = BeautifulSoup(page2.content, 'html.parser')"
      ],
      "execution_count": 0,
      "outputs": []
    },
    {
      "metadata": {
        "id": "3clzei5SAbsg",
        "colab_type": "code",
        "colab": {}
      },
      "cell_type": "code",
      "source": [
        "p2 = soup2.find_all('p')"
      ],
      "execution_count": 0,
      "outputs": []
    },
    {
      "metadata": {
        "id": "tdqdPDHJAbsi",
        "colab_type": "code",
        "colab": {}
      },
      "cell_type": "code",
      "source": [
        "capitulo2 = p2[2]"
      ],
      "execution_count": 0,
      "outputs": []
    },
    {
      "metadata": {
        "id": "GHXL4Pe8Absk",
        "colab_type": "code",
        "colab": {}
      },
      "cell_type": "code",
      "source": [
        "conteudo2 = capitulo2.contents"
      ],
      "execution_count": 0,
      "outputs": []
    },
    {
      "metadata": {
        "id": "i8MSMW4_Absn",
        "colab_type": "code",
        "colab": {}
      },
      "cell_type": "code",
      "source": [
        "ing = []"
      ],
      "execution_count": 0,
      "outputs": []
    },
    {
      "metadata": {
        "id": "lxX_7E99Abst",
        "colab_type": "code",
        "colab": {}
      },
      "cell_type": "code",
      "source": [
        "for linha in conteudo2:\n",
        "    if(linha.name == None):\n",
        "        ing.append(linha)"
      ],
      "execution_count": 0,
      "outputs": []
    },
    {
      "metadata": {
        "id": "OjjO8wj9Absx",
        "colab_type": "code",
        "colab": {}
      },
      "cell_type": "code",
      "source": [
        "portugues = {'portugues':pt}"
      ],
      "execution_count": 0,
      "outputs": []
    },
    {
      "metadata": {
        "id": "6nbN_Yy-Abs0",
        "colab_type": "code",
        "colab": {}
      },
      "cell_type": "code",
      "source": [
        "ingles = {'ingles':ing}"
      ],
      "execution_count": 0,
      "outputs": []
    },
    {
      "metadata": {
        "id": "wE2NuXqhAbs3",
        "colab_type": "code",
        "colab": {}
      },
      "cell_type": "code",
      "source": [
        "data = {'portugues':pt,'ingles':ing}"
      ],
      "execution_count": 0,
      "outputs": []
    },
    {
      "metadata": {
        "id": "tJxuwspgAbs5",
        "colab_type": "code",
        "colab": {}
      },
      "cell_type": "code",
      "source": [
        "import pandas as pd"
      ],
      "execution_count": 0,
      "outputs": []
    },
    {
      "metadata": {
        "id": "0f46eGJNAbs8",
        "colab_type": "code",
        "colab": {}
      },
      "cell_type": "code",
      "source": [
        "df = pd.DataFrame(data)"
      ],
      "execution_count": 0,
      "outputs": []
    },
    {
      "metadata": {
        "id": "2dcmZEeiAbs-",
        "colab_type": "code",
        "colab": {},
        "outputId": "88d1c041-d26c-4e4e-a935-9154ae9793b0"
      },
      "cell_type": "code",
      "source": [
        "df.head()"
      ],
      "execution_count": 0,
      "outputs": [
        {
          "output_type": "execute_result",
          "data": {
            "text/html": [
              "<div>\n",
              "<style>\n",
              "    .dataframe thead tr:only-child th {\n",
              "        text-align: right;\n",
              "    }\n",
              "\n",
              "    .dataframe thead th {\n",
              "        text-align: left;\n",
              "    }\n",
              "\n",
              "    .dataframe tbody tr th {\n",
              "        vertical-align: top;\n",
              "    }\n",
              "</style>\n",
              "<table border=\"1\" class=\"dataframe\">\n",
              "  <thead>\n",
              "    <tr style=\"text-align: right;\">\n",
              "      <th></th>\n",
              "      <th>ingles</th>\n",
              "      <th>portugues</th>\n",
              "    </tr>\n",
              "  </thead>\n",
              "  <tbody>\n",
              "    <tr>\n",
              "      <th>0</th>\n",
              "      <td>In the beginning God created the heaven and t...</td>\n",
              "      <td>No princípio, criou Deus os céus e a terra.</td>\n",
              "    </tr>\n",
              "    <tr>\n",
              "      <th>1</th>\n",
              "      <td>And the earth was without form, and void; and...</td>\n",
              "      <td>E a terra era sem forma e vazia; e havia trev...</td>\n",
              "    </tr>\n",
              "    <tr>\n",
              "      <th>2</th>\n",
              "      <td>And God said, Let there be light: and there w...</td>\n",
              "      <td>E disse Deus: Haja luz. E houve luz.</td>\n",
              "    </tr>\n",
              "    <tr>\n",
              "      <th>3</th>\n",
              "      <td>And God saw the light, that it was good: and ...</td>\n",
              "      <td>E viu Deus que era boa a luz; e fez Deus sepa...</td>\n",
              "    </tr>\n",
              "    <tr>\n",
              "      <th>4</th>\n",
              "      <td>And God called the light Day, and the darknes...</td>\n",
              "      <td>E Deus chamou à luz Dia; e às trevas chamou N...</td>\n",
              "    </tr>\n",
              "  </tbody>\n",
              "</table>\n",
              "</div>"
            ],
            "text/plain": [
              "                                              ingles  \\\n",
              "0   In the beginning God created the heaven and t...   \n",
              "1   And the earth was without form, and void; and...   \n",
              "2   And God said, Let there be light: and there w...   \n",
              "3   And God saw the light, that it was good: and ...   \n",
              "4   And God called the light Day, and the darknes...   \n",
              "\n",
              "                                           portugues  \n",
              "0       No princípio, criou Deus os céus e a terra.\n",
              "  \n",
              "1   E a terra era sem forma e vazia; e havia trev...  \n",
              "2              E disse Deus: Haja luz. E houve luz.\n",
              "  \n",
              "3   E viu Deus que era boa a luz; e fez Deus sepa...  \n",
              "4   E Deus chamou à luz Dia; e às trevas chamou N...  "
            ]
          },
          "metadata": {
            "tags": []
          },
          "execution_count": 27
        }
      ]
    },
    {
      "metadata": {
        "id": "-yJFNxrxAbtA",
        "colab_type": "code",
        "colab": {}
      },
      "cell_type": "code",
      "source": [
        "df.to_csv('genesis_1.csv',index=False)"
      ],
      "execution_count": 0,
      "outputs": []
    },
    {
      "metadata": {
        "id": "01v5sNbkAbtC",
        "colab_type": "code",
        "colab": {}
      },
      "cell_type": "code",
      "source": [
        ""
      ],
      "execution_count": 0,
      "outputs": []
    }
  ]
}