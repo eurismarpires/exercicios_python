{
  "nbformat": 4,
  "nbformat_minor": 0,
  "metadata": {
    "colab": {
      "name": "biblia_csv2.ipynb",
      "version": "0.3.2",
      "provenance": []
    },
    "kernelspec": {
      "display_name": "Python 3",
      "language": "python",
      "name": "python3"
    }
  },
  "cells": [
    {
      "cell_type": "markdown",
      "metadata": {
        "id": "view-in-github",
        "colab_type": "text"
      },
      "source": [
        "[View in Colaboratory](https://colab.research.google.com/github/eurismarpires/exercicios_python/blob/master/biblia_csv2.ipynb)"
      ]
    },
    {
      "metadata": {
        "id": "nOmWOj0MbOId",
        "colab_type": "code",
        "colab": {}
      },
      "cell_type": "code",
      "source": [
        "import requests\n",
        "from bs4 import BeautifulSoup"
      ],
      "execution_count": 0,
      "outputs": []
    },
    {
      "metadata": {
        "id": "aSoEa44PbOIj",
        "colab_type": "code",
        "colab": {}
      },
      "cell_type": "code",
      "source": [
        "livro = '01'\n",
        "cap = '2'"
      ],
      "execution_count": 0,
      "outputs": []
    },
    {
      "metadata": {
        "id": "cCcRI-GVbOIm",
        "colab_type": "code",
        "colab": {}
      },
      "cell_type": "code",
      "source": [
        "filePt = \"https://www.wordproject.org/bibles/po/{}/{}.htm#0\".format(livro,cap)\n",
        "fileIng = \"https://www.wordproject.org/bibles/kj/{}/{}.htm#0\".format(livro,cap)"
      ],
      "execution_count": 0,
      "outputs": []
    },
    {
      "metadata": {
        "id": "2EvnojO_bOIq",
        "colab_type": "code",
        "colab": {},
        "outputId": "25592979-6e4d-4bb4-c8d6-38e568c5e5d6"
      },
      "cell_type": "code",
      "source": [
        "filePt"
      ],
      "execution_count": 0,
      "outputs": [
        {
          "output_type": "execute_result",
          "data": {
            "text/plain": [
              "'https://www.wordproject.org/bibles/po/01/2.htm#0'"
            ]
          },
          "metadata": {
            "tags": []
          },
          "execution_count": 152
        }
      ]
    },
    {
      "metadata": {
        "id": "ZahxUfOybOIw",
        "colab_type": "code",
        "colab": {}
      },
      "cell_type": "code",
      "source": [
        "page = requests.get(filePt)"
      ],
      "execution_count": 0,
      "outputs": []
    },
    {
      "metadata": {
        "id": "6cQ3y7a7bOIz",
        "colab_type": "code",
        "colab": {},
        "outputId": "5509bf12-f449-404e-8c95-3dfdcb8501ed"
      },
      "cell_type": "code",
      "source": [
        "page"
      ],
      "execution_count": 0,
      "outputs": [
        {
          "output_type": "execute_result",
          "data": {
            "text/plain": [
              "<Response [200]>"
            ]
          },
          "metadata": {
            "tags": []
          },
          "execution_count": 154
        }
      ]
    },
    {
      "metadata": {
        "id": "zF2GhG8qbOI2",
        "colab_type": "code",
        "colab": {}
      },
      "cell_type": "code",
      "source": [
        "soup = BeautifulSoup(page.content, 'html.parser')"
      ],
      "execution_count": 0,
      "outputs": []
    },
    {
      "metadata": {
        "id": "QUXSLWHsbOI4",
        "colab_type": "code",
        "colab": {}
      },
      "cell_type": "code",
      "source": [
        "p = soup.find_all('p')"
      ],
      "execution_count": 0,
      "outputs": []
    },
    {
      "metadata": {
        "id": "iD8OA06VbOI7",
        "colab_type": "code",
        "colab": {}
      },
      "cell_type": "code",
      "source": [
        "capitulo = p[2]"
      ],
      "execution_count": 0,
      "outputs": []
    },
    {
      "metadata": {
        "id": "D356McGObOI9",
        "colab_type": "code",
        "colab": {},
        "outputId": "b099c24f-a34d-45ab-d985-262135f32b01"
      },
      "cell_type": "code",
      "source": [
        "def concatenate_list_data(list):\n",
        "    result= ''\n",
        "    for element in list:\n",
        "        result += str(element)\n",
        "    return result\n",
        "\n",
        "print(concatenate_list_data([1, 5, 12, 2]))"
      ],
      "execution_count": 0,
      "outputs": [
        {
          "output_type": "stream",
          "text": [
            "15122\n"
          ],
          "name": "stdout"
        }
      ]
    },
    {
      "metadata": {
        "id": "O-Ss7Y67bOJA",
        "colab_type": "code",
        "colab": {}
      },
      "cell_type": "code",
      "source": [
        "def limpar_texto(raw_text):\n",
        "    text = raw_text.split('<span class=')\n",
        "    lista = []\n",
        "    for linha in text:\n",
        "        pos = linha.find('>')\n",
        "        if pos > 0:\n",
        "            txt = linha[pos:]\n",
        "            lista.append(txt.replace('</span>','').replace('> ','').replace('<br/>','').replace('\\n','').replace('>',''))\n",
        "    return lista"
      ],
      "execution_count": 0,
      "outputs": []
    },
    {
      "metadata": {
        "id": "n_lOtuUJbOJC",
        "colab_type": "code",
        "colab": {}
      },
      "cell_type": "code",
      "source": [
        "def limpar_texto2(raw_text):\n",
        "    xx = raw_text.split(\"id=\")\n",
        "    yy = xx[1:]\n",
        "    lista = []\n",
        "    for linha in yy:\n",
        "        pos = linha.find(\">\") \n",
        "        ss = linha[pos:].replace('</span>','').replace('\\n<br/><span class=\"verse\" ','').replace('<span class=\"person\">','')\n",
        "        ss = ss.replace('<span class=\"place\">','').replace('\\n','').replace('> ','').replace('>','')\n",
        "        lista.append(ss) \n",
        "    return lista"
      ],
      "execution_count": 0,
      "outputs": []
    },
    {
      "metadata": {
        "id": "6hU3a1RpbOJF",
        "colab_type": "code",
        "colab": {}
      },
      "cell_type": "code",
      "source": [
        "conteudo = capitulo.contents\n",
        "raw_text = concatenate_list_data(conteudo)\n",
        "texto_portugues = limpar_texto2(raw_text)"
      ],
      "execution_count": 0,
      "outputs": []
    },
    {
      "metadata": {
        "id": "GnzRFHeobOJH",
        "colab_type": "code",
        "colab": {},
        "outputId": "d053455d-f3c0-4725-e61f-609f36615e40"
      },
      "cell_type": "code",
      "source": [
        "len(texto_portugues)"
      ],
      "execution_count": 0,
      "outputs": [
        {
          "output_type": "execute_result",
          "data": {
            "text/plain": [
              "25"
            ]
          },
          "metadata": {
            "tags": []
          },
          "execution_count": 162
        }
      ]
    },
    {
      "metadata": {
        "id": "154CNYfZbOJL",
        "colab_type": "code",
        "colab": {},
        "outputId": "fe3022ae-9fd2-4fe4-8d74-6a2420c16c5a"
      },
      "cell_type": "code",
      "source": [
        "texto_portugues"
      ],
      "execution_count": 0,
      "outputs": [
        {
          "output_type": "execute_result",
          "data": {
            "text/plain": [
              "['1  Assim, os céus, e a terra, e todo o seu exército foram acabados.',\n",
              " '2  E, havendo Deus acabado no dia sétimo a sua obra, que tinha feito, descansou no sétimo dia de toda a sua obra, que tinha feito.',\n",
              " '3  E abençoou Deus o dia sétimo e o santificou; porque nele descansou de toda a sua obra, que Deus criara e fizera.',\n",
              " '4  Estas são as origens dos céus e da terra, quando foram criados; no dia em que o SENHOR Deus fez a terra e os céus.',\n",
              " '5  Toda planta do campo ainda não estava na terra, e toda erva do campo ainda não brotava; porque ainda o SENHOR Deus não tinha feito chover sobre a terra, e não havia homem para lavrar a terra.',\n",
              " '6  Um vapor, porém, subia da terra e regava toda a face da terra.',\n",
              " '7  E formou o SENHOR Deus o homem do pó da terra e soprou em seus narizes o fôlego da vida; e o homem foi feito alma vivente.',\n",
              " '8  E plantou o SENHOR Deus um jardim no Éden, da banda do Oriente, e pôs ali o homem que tinha formado.',\n",
              " '9  E o SENHOR Deus fez brotar da terra toda árvore agradável à vista e boa para comida, e a árvore da vida no meio do jardim, e a árvore da ciência do bem e do mal.',\n",
              " '10  E saía um rio do Éden para regar o jardim; e dali se dividia e se tornava em quatro braços.',\n",
              " '11  O nome do primeiro é Pisom; este é o que rodeia toda a terra de Havilá, onde há ouro.',\n",
              " '12  E o ouro dessa terra é bom; ali há o bdélio e a pedra sardônica.',\n",
              " '13  E o nome do segundo rio é Giom; este é o que rodeia toda a terra de Cuxe.',\n",
              " '14  E o nome do terceiro rio é Hidéquel; este é o que vai para a banda do oriente da Assíria; e o quarto rio é o Eufrates.',\n",
              " '15  E tomou o SENHOR Deus o homem e o pôs no jardim do Éden para o lavrar e o guardar.',\n",
              " '16  E ordenou o SENHOR Deus ao homem, dizendo: De toda árvore do jardim comerás livremente,',\n",
              " '17  mas da árvore da ciência do bem e do mal, dela não comerás; porque, no dia em que dela comeres, certamente morrerás.',\n",
              " '18  E disse o SENHOR Deus: Não é bom que o homem esteja só; far-lhe-ei uma adjutora que esteja como diante dele.',\n",
              " '19   Havendo, pois, o SENHOR Deus formado da terra todo animal do campo e toda ave dos céus, os trouxe a Adão, para este ver como lhes chamaria; e tudo o que Adão chamou a toda a alma vivente, isso foi o seu nome.',\n",
              " '20  E Adão pôs os nomes a todo o gado, e às aves dos céus, e a todo animal do campo; mas para o homem não se achava adjutora que estivesse como diante dele.',\n",
              " '21  Então, o SENHOR Deus fez cair um sono pesado sobre Adão, e este adormeceu; e tomou uma das suas costelas e cerrou a carne em seu lugar.',\n",
              " '22  E da costela que o SENHOR Deus tomou do homem formou uma mulher; e trouxe-a a Adão.',\n",
              " '23  E disse Adão: Esta é agora osso dos meus ossos e carne da minha carne; esta será chamada varoa, porquanto do varão foi tomada.',\n",
              " '24  Portanto, deixará o varão o seu pai e a sua mãe e apegar-se-á à sua mulher, e serão ambos uma carne.',\n",
              " '25  E ambos estavam nus, o homem e a sua mulher; e não se envergonhavam.']"
            ]
          },
          "metadata": {
            "tags": []
          },
          "execution_count": 163
        }
      ]
    },
    {
      "metadata": {
        "id": "O32jMppebOJQ",
        "colab_type": "text"
      },
      "cell_type": "markdown",
      "source": [
        "## inglês"
      ]
    },
    {
      "metadata": {
        "id": "p3NH9zWCbOJR",
        "colab_type": "code",
        "colab": {}
      },
      "cell_type": "code",
      "source": [
        "page2 = requests.get(fileIng)"
      ],
      "execution_count": 0,
      "outputs": []
    },
    {
      "metadata": {
        "id": "qpBx56u5bOJV",
        "colab_type": "code",
        "colab": {}
      },
      "cell_type": "code",
      "source": [
        "soup2 = BeautifulSoup(page2.content, 'html.parser')"
      ],
      "execution_count": 0,
      "outputs": []
    },
    {
      "metadata": {
        "id": "uGgNvTa6bOJY",
        "colab_type": "code",
        "colab": {}
      },
      "cell_type": "code",
      "source": [
        "p2 = soup2.find_all('p')"
      ],
      "execution_count": 0,
      "outputs": []
    },
    {
      "metadata": {
        "id": "x51qovI9bOJa",
        "colab_type": "code",
        "colab": {}
      },
      "cell_type": "code",
      "source": [
        "capitulo2 = p2[2]"
      ],
      "execution_count": 0,
      "outputs": []
    },
    {
      "metadata": {
        "id": "nR6epDm5bOJc",
        "colab_type": "code",
        "colab": {}
      },
      "cell_type": "code",
      "source": [
        "conteudo2 = capitulo2.contents\n",
        "raw_text2 = concatenate_list_data(conteudo2)\n",
        "texto_ingles = limpar_texto2(raw_text2)"
      ],
      "execution_count": 0,
      "outputs": []
    },
    {
      "metadata": {
        "id": "PvsyiTmabOJe",
        "colab_type": "code",
        "colab": {},
        "outputId": "fce68834-dabb-4c02-eee5-6215c2c09ec2"
      },
      "cell_type": "code",
      "source": [
        "texto_ingles"
      ],
      "execution_count": 0,
      "outputs": [
        {
          "output_type": "execute_result",
          "data": {
            "text/plain": [
              "['1 Thus the heavens and the earth were finished, and all the host of them.',\n",
              " '2 And on the seventh day God ended his work which he had made; and he rested on the seventh day from all his work which he had made.',\n",
              " '3 And God blessed the seventh day, and sanctified it: because that in it he had rested from all his work which God created and made.',\n",
              " '4 These are the generations of the heavens and of the earth when they were created, in the day that the LORD God made the earth and the heavens,',\n",
              " '5 And every plant of the field before it was in the earth, and every herb of the field before it grew: for the LORD God had not caused it to rain upon the earth, and there was not a man to till the ground.',\n",
              " '6 But there went up a mist from the earth, and watered the whole face of the ground.',\n",
              " '7 And the LORD God formed man of the dust of the ground, and breathed into his nostrils the breath of life; and man became a living soul.',\n",
              " '8 And the LORD God planted a garden eastward in Eden; and there he put the man whom he had formed.',\n",
              " '9 And out of the ground made the LORD God to grow every tree that is pleasant to the sight, and good for food; the tree of life also in the midst of the garden, and the tree of knowledge of good and evil.',\n",
              " '10 And a river went out of Eden to water the garden; and from thence it was parted, and became into four heads.',\n",
              " '11 The name of the first is Pison: that is it which compasseth the whole land of Havilah, where there is gold;',\n",
              " '12 And the gold of that land is good: there is bdellium and the onyx stone.',\n",
              " '13 And the name of the second river is Gihon: the same is it that compasseth the whole land of Ethiopia.',\n",
              " '14 And the name of the third river is Hiddekel: that is it which goeth toward the east of Assyria. And the fourth river is Euphrates.',\n",
              " '15 And the LORD God took the man, and put him into the garden of Eden to dress it and to keep it.',\n",
              " '16 And the LORD God commanded the man, saying, Of every tree of the garden thou mayest freely eat:',\n",
              " '17 But of the tree of the knowledge of good and evil, thou shalt not eat of it: for in the day that thou eatest thereof thou shalt surely die.',\n",
              " '18 And the LORD God said, It is not good that the man should be alone; I will make him an help meet for him.',\n",
              " '19 And out of the ground the LORD God formed every beast of the field, and every fowl of the air; and brought them unto Adam to see what he would call them: and whatsoever Adam called every living creature, that was the name thereof.',\n",
              " '20 And Adam gave names to all cattle, and to the fowl of the air, and to every beast of the field; but for Adam there was not found an help meet for him.',\n",
              " '21 And the LORD God caused a deep sleep to fall upon Adam, and he slept: and he took one of his ribs, and closed up the flesh instead thereof;',\n",
              " '22 And the rib, which the LORD God had taken from man, made he a woman, and brought her unto the man.',\n",
              " '23 And Adam said, This is now bone of my bones, and flesh of my flesh: she shall be called Woman, because she was taken out of Man.',\n",
              " '24 Therefore shall a man leave his father and his mother, and shall cleave unto his wife: and they shall be one flesh.',\n",
              " '25 And they were both naked, the man and his wife, and were not ashamed.']"
            ]
          },
          "metadata": {
            "tags": []
          },
          "execution_count": 169
        }
      ]
    },
    {
      "metadata": {
        "id": "ey9_t2T5bOJg",
        "colab_type": "code",
        "colab": {},
        "outputId": "31a8c49c-82db-4ea0-d7ab-4f1a98a7f2ee"
      },
      "cell_type": "code",
      "source": [
        "texto_portugues[2]"
      ],
      "execution_count": 0,
      "outputs": [
        {
          "output_type": "execute_result",
          "data": {
            "text/plain": [
              "'3  E abençoou Deus o dia sétimo e o santificou; porque nele descansou de toda a sua obra, que Deus criara e fizera.'"
            ]
          },
          "metadata": {
            "tags": []
          },
          "execution_count": 170
        }
      ]
    },
    {
      "metadata": {
        "id": "nKkHTAmxbOJj",
        "colab_type": "code",
        "colab": {},
        "outputId": "dcabbb2d-7b8f-4df5-c9c4-3034787c2718"
      },
      "cell_type": "code",
      "source": [
        "texto_ingles[2]"
      ],
      "execution_count": 0,
      "outputs": [
        {
          "output_type": "execute_result",
          "data": {
            "text/plain": [
              "'3 And God blessed the seventh day, and sanctified it: because that in it he had rested from all his work which God created and made.'"
            ]
          },
          "metadata": {
            "tags": []
          },
          "execution_count": 171
        }
      ]
    },
    {
      "metadata": {
        "id": "5klQUHp-bOJm",
        "colab_type": "code",
        "colab": {}
      },
      "cell_type": "code",
      "source": [
        "import pandas as pd"
      ],
      "execution_count": 0,
      "outputs": []
    },
    {
      "metadata": {
        "id": "-suMaOdabOJp",
        "colab_type": "code",
        "colab": {}
      },
      "cell_type": "code",
      "source": [
        "df = pd.DataFrame({'ingles':texto_ingles,'portugues':texto_portugues})"
      ],
      "execution_count": 0,
      "outputs": []
    },
    {
      "metadata": {
        "id": "F7HdwJ58bOJu",
        "colab_type": "code",
        "colab": {},
        "outputId": "e3850c88-edfe-4cec-fc28-72e021a76272"
      },
      "cell_type": "code",
      "source": [
        "df.head()"
      ],
      "execution_count": 0,
      "outputs": [
        {
          "output_type": "execute_result",
          "data": {
            "text/html": [
              "<div>\n",
              "<style>\n",
              "    .dataframe thead tr:only-child th {\n",
              "        text-align: right;\n",
              "    }\n",
              "\n",
              "    .dataframe thead th {\n",
              "        text-align: left;\n",
              "    }\n",
              "\n",
              "    .dataframe tbody tr th {\n",
              "        vertical-align: top;\n",
              "    }\n",
              "</style>\n",
              "<table border=\"1\" class=\"dataframe\">\n",
              "  <thead>\n",
              "    <tr style=\"text-align: right;\">\n",
              "      <th></th>\n",
              "      <th>ingles</th>\n",
              "      <th>portugues</th>\n",
              "    </tr>\n",
              "  </thead>\n",
              "  <tbody>\n",
              "    <tr>\n",
              "      <th>0</th>\n",
              "      <td>1 Thus the heavens and the earth were finished...</td>\n",
              "      <td>1  Assim, os céus, e a terra, e todo o seu exé...</td>\n",
              "    </tr>\n",
              "    <tr>\n",
              "      <th>1</th>\n",
              "      <td>2 And on the seventh day God ended his work wh...</td>\n",
              "      <td>2  E, havendo Deus acabado no dia sétimo a sua...</td>\n",
              "    </tr>\n",
              "    <tr>\n",
              "      <th>2</th>\n",
              "      <td>3 And God blessed the seventh day, and sanctif...</td>\n",
              "      <td>3  E abençoou Deus o dia sétimo e o santificou...</td>\n",
              "    </tr>\n",
              "    <tr>\n",
              "      <th>3</th>\n",
              "      <td>4 These are the generations of the heavens and...</td>\n",
              "      <td>4  Estas são as origens dos céus e da terra, q...</td>\n",
              "    </tr>\n",
              "    <tr>\n",
              "      <th>4</th>\n",
              "      <td>5 And every plant of the field before it was i...</td>\n",
              "      <td>5  Toda planta do campo ainda não estava na te...</td>\n",
              "    </tr>\n",
              "  </tbody>\n",
              "</table>\n",
              "</div>"
            ],
            "text/plain": [
              "                                              ingles  \\\n",
              "0  1 Thus the heavens and the earth were finished...   \n",
              "1  2 And on the seventh day God ended his work wh...   \n",
              "2  3 And God blessed the seventh day, and sanctif...   \n",
              "3  4 These are the generations of the heavens and...   \n",
              "4  5 And every plant of the field before it was i...   \n",
              "\n",
              "                                           portugues  \n",
              "0  1  Assim, os céus, e a terra, e todo o seu exé...  \n",
              "1  2  E, havendo Deus acabado no dia sétimo a sua...  \n",
              "2  3  E abençoou Deus o dia sétimo e o santificou...  \n",
              "3  4  Estas são as origens dos céus e da terra, q...  \n",
              "4  5  Toda planta do campo ainda não estava na te...  "
            ]
          },
          "metadata": {
            "tags": []
          },
          "execution_count": 174
        }
      ]
    },
    {
      "metadata": {
        "id": "oV0C9YXcbOJy",
        "colab_type": "code",
        "colab": {}
      },
      "cell_type": "code",
      "source": [
        "arquivo = 'biblia_{}_{}.csv'.format(livro,cap)"
      ],
      "execution_count": 0,
      "outputs": []
    },
    {
      "metadata": {
        "id": "8_jN-hwybOJ1",
        "colab_type": "code",
        "colab": {}
      },
      "cell_type": "code",
      "source": [
        "df.to_csv(arquivo,index=False,header=False)"
      ],
      "execution_count": 0,
      "outputs": []
    },
    {
      "metadata": {
        "id": "99IF68XLbOJ3",
        "colab_type": "code",
        "colab": {},
        "outputId": "110e1916-4e92-4fba-bd6b-9bd945e6ff58"
      },
      "cell_type": "code",
      "source": [
        "arquivo"
      ],
      "execution_count": 0,
      "outputs": [
        {
          "output_type": "execute_result",
          "data": {
            "text/plain": [
              "'biblia_01_2.csv'"
            ]
          },
          "metadata": {
            "tags": []
          },
          "execution_count": 177
        }
      ]
    },
    {
      "metadata": {
        "id": "E-2yLygYbOJ5",
        "colab_type": "code",
        "colab": {}
      },
      "cell_type": "code",
      "source": [
        ""
      ],
      "execution_count": 0,
      "outputs": []
    }
  ]
}