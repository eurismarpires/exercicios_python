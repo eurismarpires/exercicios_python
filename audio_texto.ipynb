{
 "cells": [
  {
   "cell_type": "code",
   "execution_count": 1,
   "metadata": {
    "collapsed": true
   },
   "outputs": [],
   "source": [
    "import os\n",
    "import glob\n",
    "import scipy.io.wavfile as wav"
   ]
  },
  {
   "cell_type": "code",
   "execution_count": 2,
   "metadata": {
    "collapsed": true
   },
   "outputs": [],
   "source": [
    "from unicodedata import normalize\n",
    "\n",
    "def remover_acentos(txt):\n",
    "    return normalize('NFKD', txt).encode('ASCII','ignore').decode('ASCII')"
   ]
  },
  {
   "cell_type": "code",
   "execution_count": 3,
   "metadata": {
    "collapsed": false
   },
   "outputs": [],
   "source": [
    "def audioTexto(qtde):\n",
    "    arquivos_e_diretorios = os.listdir('data/') #lista de arquivos e diretórios\n",
    "    diretorios = []\n",
    "    #pega somente os diretórios e coloca na lista de diretorios\n",
    "    for arquivo in arquivos_e_diretorios:\n",
    "            if arquivo.find('.tgz') == -1:\n",
    "                diretorios.append(arquivo)   \n",
    "    \n",
    "    #pega somente os arquivos wav e coloca na lista de waves\n",
    "    waves = []    \n",
    "    for diretorio in diretorios:\n",
    "        for file in glob.glob('data/' + diretorio+'/wav/*.wav'):\n",
    "            waves.append(file)\n",
    "    lista_audio = []\n",
    "    lista_texto = []\n",
    "    lista_audio_texto = lista_audio, lista_texto    \n",
    "    for w in waves[:qtde]:\n",
    "        txt = w[:-11]+'etc/prompts-original' #pega o nome e retira os últimos 11 digitos e completa do /etc até o txt\n",
    "        numero = w[-7:-4]  #pega somente o número do arquivo de áudio\n",
    "        try:\n",
    "            for line in open(txt):\n",
    "                if(line.strip().startswith(numero)): #pega o texto a partir do número do audio                    \n",
    "                    lista_audio.append(w)\n",
    "                    lista_texto.append(line[4:-2])                    \n",
    "        except IOError as e:\n",
    "            print(\"Não encontrou o arquivo:\" + w)  \n",
    "    return lista_audio, lista_texto"
   ]
  },
  {
   "cell_type": "code",
   "execution_count": 4,
   "metadata": {
    "collapsed": false
   },
   "outputs": [],
   "source": [
    "def audioTexto2(qtde):\n",
    "    arquivos_e_diretorios = os.listdir('data/') #lista de arquivos e diretórios\n",
    "    diretorios = []\n",
    "    #pega somente os diretórios e coloca na lista de diretorios\n",
    "    for arquivo in arquivos_e_diretorios:\n",
    "            if arquivo.find('.tgz') == -1:\n",
    "                diretorios.append(arquivo)   \n",
    "    \n",
    "    #pega somente os arquivos wav e coloca na lista de waves\n",
    "    waves = []    \n",
    "    for diretorio in diretorios:\n",
    "        for file in glob.glob('data/' + diretorio+'/wav/*.wav'):\n",
    "            waves.append(file)\n",
    "    lista_audio = []\n",
    "    lista_texto = []\n",
    "    lista_waves = []\n",
    "    lista_audio_texto = lista_audio, lista_texto    \n",
    "    for w in waves[:qtde]:\n",
    "        txt = w[:-11]+'etc/prompts-original' #pega o nome e retira os últimos 11 digitos e completa do /etc até o txt\n",
    "        numero = w[-7:-4]  #pega somente o número do arquivo de áudio\n",
    "        try:\n",
    "            for line in open(txt):\n",
    "                if(line.strip().startswith(numero)): #pega o texto a partir do número do audio                    \n",
    "                    lista_audio.append(w)\n",
    "                    #_, arq_audio = wav.read(w)\n",
    "                    lista_waves.append(wav.read(w))\n",
    "                    lista_texto.append(remover_acentos(line[4:-1]).lower().replace('.','').replace('?',''))                   \n",
    "        except IOError as e:\n",
    "            print(\"Não encontrou o arquivo:\" + w)  \n",
    "    return lista_audio, lista_texto, lista_waves"
   ]
  },
  {
   "cell_type": "code",
   "execution_count": 5,
   "metadata": {
    "collapsed": false
   },
   "outputs": [],
   "source": [
    "t = audioTexto2(5)"
   ]
  },
  {
   "cell_type": "code",
   "execution_count": 6,
   "metadata": {
    "collapsed": false
   },
   "outputs": [
    {
     "data": {
      "text/plain": [
       "(['data/rubbermaiden-20160714-uqv/wav/064.wav',\n",
       "  'data/rubbermaiden-20160714-uqv/wav/071.wav',\n",
       "  'data/rubbermaiden-20160714-uqv/wav/068.wav',\n",
       "  'data/rubbermaiden-20160714-uqv/wav/063.wav',\n",
       "  'data/rubbermaiden-20160714-uqv/wav/070.wav'],\n",
       " ['de quem e a caneta ',\n",
       "  'eu e pedro andamos a cavalo nos sabados ',\n",
       "  'por que voce comprou essa revista ',\n",
       "  'quando e o seu aniversario ',\n",
       "  'eu pago a conta e voces deixam a gorjeta '],\n",
       " [(8000, array([2995, 5935, 4914, ..., 2480, 2020, 2888], dtype=int16)),\n",
       "  (8000,\n",
       "   array([ -9078, -18159, -16592, ...,   1059,   1378,   1723], dtype=int16)),\n",
       "  (8000, array([ 1800,  3085,  2252, ..., 15676, 14274, 16878], dtype=int16)),\n",
       "  (8000, array([ 5914, 11108,  9030, ...,   440,   764,  2360], dtype=int16)),\n",
       "  (8000, array([ 6487, 12346, 10846, ..., 15736, 14958, 16774], dtype=int16))])"
      ]
     },
     "execution_count": 6,
     "metadata": {},
     "output_type": "execute_result"
    }
   ],
   "source": [
    "t"
   ]
  },
  {
   "cell_type": "code",
   "execution_count": 7,
   "metadata": {
    "collapsed": false
   },
   "outputs": [],
   "source": [
    "path, texto, audio = t"
   ]
  },
  {
   "cell_type": "code",
   "execution_count": 8,
   "metadata": {
    "collapsed": false
   },
   "outputs": [],
   "source": [
    "a = audio"
   ]
  },
  {
   "cell_type": "code",
   "execution_count": 9,
   "metadata": {
    "collapsed": false
   },
   "outputs": [
    {
     "data": {
      "text/plain": [
       "array([2995, 5935, 4914, ..., 2480, 2020, 2888], dtype=int16)"
      ]
     },
     "execution_count": 9,
     "metadata": {},
     "output_type": "execute_result"
    }
   ],
   "source": [
    "a[0][1]"
   ]
  },
  {
   "cell_type": "code",
   "execution_count": 10,
   "metadata": {
    "collapsed": false
   },
   "outputs": [
    {
     "data": {
      "text/plain": [
       "8000"
      ]
     },
     "execution_count": 10,
     "metadata": {},
     "output_type": "execute_result"
    }
   ],
   "source": [
    "a[0][0]"
   ]
  },
  {
   "cell_type": "code",
   "execution_count": 11,
   "metadata": {
    "collapsed": false
   },
   "outputs": [
    {
     "data": {
      "text/plain": [
       "['de quem e a caneta ',\n",
       " 'eu e pedro andamos a cavalo nos sabados ',\n",
       " 'por que voce comprou essa revista ',\n",
       " 'quando e o seu aniversario ',\n",
       " 'eu pago a conta e voces deixam a gorjeta ']"
      ]
     },
     "execution_count": 11,
     "metadata": {},
     "output_type": "execute_result"
    }
   ],
   "source": [
    "texto"
   ]
  },
  {
   "cell_type": "code",
   "execution_count": 12,
   "metadata": {
    "collapsed": false
   },
   "outputs": [
    {
     "data": {
      "text/plain": [
       "'de quem e a caneta eu e pedro andamos a cavalo nos sabados por que voce comprou essa revista quando e o seu aniversario eu pago a conta e voces deixam a gorjeta '"
      ]
     },
     "execution_count": 12,
     "metadata": {},
     "output_type": "execute_result"
    }
   ],
   "source": [
    "''.join(texto)"
   ]
  },
  {
   "cell_type": "code",
   "execution_count": null,
   "metadata": {
    "collapsed": true
   },
   "outputs": [],
   "source": []
  }
 ],
 "metadata": {
  "anaconda-cloud": {},
  "kernelspec": {
   "display_name": "Python [default]",
   "language": "python",
   "name": "python3"
  },
  "language_info": {
   "codemirror_mode": {
    "name": "ipython",
    "version": 3
   },
   "file_extension": ".py",
   "mimetype": "text/x-python",
   "name": "python",
   "nbconvert_exporter": "python",
   "pygments_lexer": "ipython3",
   "version": "3.5.2"
  }
 },
 "nbformat": 4,
 "nbformat_minor": 1
}
