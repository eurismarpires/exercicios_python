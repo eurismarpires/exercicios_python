{
 "cells": [
  {
   "cell_type": "code",
   "execution_count": null,
   "metadata": {
    "collapsed": true
   },
   "outputs": [],
   "source": [
    "import youtube_dl"
   ]
  },
  {
   "cell_type": "code",
   "execution_count": null,
   "metadata": {
    "collapsed": true
   },
   "outputs": [],
   "source": [
    "#options = {'outtmpl': '%(id)s'}  # save file as the YouTube ID\n",
    "options = {\n",
    "    'format': 'bestaudio/best', # choice of quality\n",
    "    'extractaudio' : True,      # only keep the audio\n",
    "    'audioformat' : \"mp3\",      # convert to mp3 \n",
    "    'outtmpl': '%(id)s',        # name the file the ID of the video\n",
    "    'noplaylist' : True,        # only download single song, not playlist\n",
    "}"
   ]
  },
  {
   "cell_type": "code",
   "execution_count": null,
   "metadata": {
    "collapsed": false
   },
   "outputs": [],
   "source": [
    "with youtube_dl.YoutubeDL(options) as ydl:\n",
    "    ydl.download(['https://www.youtube.com/watch?v=sslbXlc6NU0'])"
   ]
  },
  {
   "cell_type": "code",
   "execution_count": null,
   "metadata": {
    "collapsed": true
   },
   "outputs": [],
   "source": [
    "#http://willdrevo.com/downloading-youtube-and-soundcloud-audio-with-python-and-pandas/"
   ]
  }
 ],
 "metadata": {
  "kernelspec": {
   "display_name": "Python 2",
   "language": "python",
   "name": "python2"
  },
  "language_info": {
   "codemirror_mode": {
    "name": "ipython",
    "version": 2
   },
   "file_extension": ".py",
   "mimetype": "text/x-python",
   "name": "python",
   "nbconvert_exporter": "python",
   "pygments_lexer": "ipython2",
   "version": "2.7.13"
  }
 },
 "nbformat": 4,
 "nbformat_minor": 2
}
