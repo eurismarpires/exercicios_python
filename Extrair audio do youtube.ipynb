{
 "cells": [
  {
   "cell_type": "code",
   "execution_count": 4,
   "metadata": {
    "collapsed": true
   },
   "outputs": [],
   "source": [
    "import youtube_dl"
   ]
  },
  {
   "cell_type": "code",
   "execution_count": 5,
   "metadata": {
    "collapsed": true
   },
   "outputs": [],
   "source": [
    "#options = {'outtmpl': '%(id)s'}  # save file as the YouTube ID\n",
    "options = {\n",
    "    'format': 'bestaudio/best', # choice of quality\n",
    "    'extractaudio' : True,      # only keep the audio\n",
    "    'audioformat' : \"mp3\",      # convert to mp3 \n",
    "    'outtmpl': '%(id)s',        # name the file the ID of the video\n",
    "    'noplaylist' : True,        # only download single song, not playlist\n",
    "}"
   ]
  },
  {
   "cell_type": "code",
   "execution_count": 6,
   "metadata": {
    "collapsed": false
   },
   "outputs": [
    {
     "name": "stderr",
     "output_type": "stream",
     "text": [
      "WARNING: Parameter outtmpl is bytes, but should be a unicode string. Put  from __future__ import unicode_literals  at the top of your code file or consider switching to Python 3.x.\n"
     ]
    },
    {
     "name": "stdout",
     "output_type": "stream",
     "text": [
      "[youtube] sslbXlc6NU0: Downloading webpage\n",
      "[youtube] sslbXlc6NU0: Downloading video info webpage\n",
      "[youtube] sslbXlc6NU0: Extracting video information\n",
      "[youtube] sslbXlc6NU0: Downloading MPD manifest\n",
      "[youtube] sslbXlc6NU0: Downloading MPD manifest\n"
     ]
    },
    {
     "name": "stderr",
     "output_type": "stream",
     "text": [
      "WARNING: \"id\" field is not a string - forcing string conversion\n"
     ]
    },
    {
     "name": "stdout",
     "output_type": "stream",
     "text": [
      "[dashsegments] Total fragments: 46\n",
      "[download] Destination: sslbXlc6NU0\n",
      "[download] 100% of 3.36MiB in 06:445.72KiB/s ETA 00:00423\n"
     ]
    },
    {
     "name": "stderr",
     "output_type": "stream",
     "text": [
      "WARNING: sslbXlc6NU0: writing DASH m4a. Only some players support this container. Install ffmpeg or avconv to fix this automatically.\n"
     ]
    }
   ],
   "source": [
    "with youtube_dl.YoutubeDL(options) as ydl:\n",
    "    ydl.download(['https://www.youtube.com/watch?v=sslbXlc6NU0'])"
   ]
  },
  {
   "cell_type": "code",
   "execution_count": null,
   "metadata": {
    "collapsed": true
   },
   "outputs": [],
   "source": []
  }
 ],
 "metadata": {
  "kernelspec": {
   "display_name": "Python 2",
   "language": "python",
   "name": "python2"
  },
  "language_info": {
   "codemirror_mode": {
    "name": "ipython",
    "version": 2
   },
   "file_extension": ".py",
   "mimetype": "text/x-python",
   "name": "python",
   "nbconvert_exporter": "python",
   "pygments_lexer": "ipython2",
   "version": "2.7.13"
  }
 },
 "nbformat": 4,
 "nbformat_minor": 2
}
