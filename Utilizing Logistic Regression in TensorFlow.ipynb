{
 "cells": [
  {
   "cell_type": "code",
   "execution_count": 1,
   "metadata": {
    "collapsed": false
   },
   "outputs": [
    {
     "name": "stderr",
     "output_type": "stream",
     "text": [
      "C:\\Program Files\\Anaconda3\\lib\\site-packages\\sklearn\\cross_validation.py:44: DeprecationWarning: This module was deprecated in version 0.18 in favor of the model_selection module into which all the refactored classes and functions are moved. Also note that the interface of the new CV iterators are different from that of this module. This module will be removed in 0.20.\n",
      "  \"This module will be removed in 0.20.\", DeprecationWarning)\n"
     ]
    }
   ],
   "source": [
    "import tensorflow as tf\n",
    "import pandas as pd\n",
    "import numpy as np\n",
    "import time\n",
    "from sklearn.datasets import load_iris\n",
    "from sklearn.cross_validation import train_test_split\n",
    "import matplotlib.pyplot as plt"
   ]
  },
  {
   "cell_type": "code",
   "execution_count": 2,
   "metadata": {
    "collapsed": true
   },
   "outputs": [],
   "source": [
    "iris = load_iris()\n",
    "iris_X, iris_y = iris.data[:-1,:], iris.target[:-1]\n",
    "iris_y= pd.get_dummies(iris_y).values\n",
    "trainX, testX, trainY, testY = train_test_split(iris_X, iris_y, test_size=0.33, random_state=42)"
   ]
  },
  {
   "cell_type": "code",
   "execution_count": 11,
   "metadata": {
    "collapsed": false
   },
   "outputs": [],
   "source": [
    "# numFeatures is the number of features in our input data.\n",
    "# In the iris dataset, this number is '4'.\n",
    "numFeatures = trainX.shape[1]\n",
    "\n",
    "# numLabels is the number of classes our data points can be in.\n",
    "# In the iris dataset, this number is '3'.\n",
    "numLabels = trainY.shape[1]\n",
    "\n",
    "\n",
    "# Placeholders\n",
    "# 'None' means TensorFlow shouldn't expect a fixed number in that dimension\n",
    "X = tf.placeholder(tf.float32, [None, numFeatures]) # Iris has 4 features, so X is a tensor to hold our data.\n",
    "yGold = tf.placeholder(tf.float32, [None, numLabels]) # This will be our correct answers matrix for 3 classes."
   ]
  },
  {
   "cell_type": "code",
   "execution_count": 15,
   "metadata": {
    "collapsed": false
   },
   "outputs": [],
   "source": [
    "W = tf.Variable(tf.zeros([4, 3]))  # 4-dimensional input and  3 classes\n",
    "b = tf.Variable(tf.zeros([3])) # 3-dimensional output [0,0,1],[0,1,0],[1,0,0]"
   ]
  },
  {
   "cell_type": "code",
   "execution_count": 16,
   "metadata": {
    "collapsed": true
   },
   "outputs": [],
   "source": [
    "#Randomly sample from a normal distribution with standard deviation .01\n",
    "\n",
    "weights = tf.Variable(tf.random_normal([numFeatures,numLabels],\n",
    "                                       mean=0,\n",
    "                                       stddev=0.01,\n",
    "                                       name=\"weights\"))\n",
    "\n",
    "bias = tf.Variable(tf.random_normal([1,numLabels],\n",
    "                                    mean=0,\n",
    "                                    stddev=0.01,\n",
    "                                    name=\"bias\"))"
   ]
  },
  {
   "cell_type": "code",
   "execution_count": 18,
   "metadata": {
    "collapsed": true
   },
   "outputs": [],
   "source": [
    "# Three-component breakdown of the Logistic Regression equation.\n",
    "# Note that these feed into each other.\n",
    "apply_weights_OP = tf.matmul(X, weights, name=\"apply_weights\")\n",
    "add_bias_OP = tf.add(apply_weights_OP, bias, name=\"add_bias\") \n",
    "activation_OP = tf.nn.sigmoid(add_bias_OP, name=\"activation\")"
   ]
  },
  {
   "cell_type": "code",
   "execution_count": 19,
   "metadata": {
    "collapsed": true
   },
   "outputs": [],
   "source": [
    "# Number of Epochs in our training\n",
    "numEpochs = 700\n",
    "\n",
    "# Defining our learning rate iterations (decay)\n",
    "learningRate = tf.train.exponential_decay(learning_rate=0.0008,\n",
    "                                          global_step= 1,\n",
    "                                          decay_steps=trainX.shape[0],\n",
    "                                          decay_rate= 0.95,\n",
    "                                          staircase=True)"
   ]
  },
  {
   "cell_type": "code",
   "execution_count": 20,
   "metadata": {
    "collapsed": true
   },
   "outputs": [],
   "source": [
    "#Defining our cost function - Squared Mean Error\n",
    "cost_OP = tf.nn.l2_loss(activation_OP-yGold, name=\"squared_error_cost\")\n",
    "\n",
    "#Defining our Gradient Descent\n",
    "training_OP = tf.train.GradientDescentOptimizer(learningRate).minimize(cost_OP)"
   ]
  },
  {
   "cell_type": "code",
   "execution_count": 21,
   "metadata": {
    "collapsed": true
   },
   "outputs": [],
   "source": [
    "# Create a tensorflow session\n",
    "sess = tf.Session()\n",
    "\n",
    "# Initialize our weights and biases variables.\n",
    "init_OP = tf.global_variables_initializer()\n",
    "\n",
    "# Initialize all tensorflow variables\n",
    "sess.run(init_OP)"
   ]
  },
  {
   "cell_type": "code",
   "execution_count": 22,
   "metadata": {
    "collapsed": true
   },
   "outputs": [],
   "source": [
    "# argmax(activation_OP, 1) returns the label with the most probability\n",
    "# argmax(yGold, 1) is the correct label\n",
    "correct_predictions_OP = tf.equal(tf.argmax(activation_OP,1),tf.argmax(yGold,1))\n",
    "\n",
    "# If every false prediction is 0 and every true prediction is 1, the average returns us the accuracy\n",
    "accuracy_OP = tf.reduce_mean(tf.cast(correct_predictions_OP, \"float\"))\n",
    "\n",
    "# Summary op for regression output\n",
    "activation_summary_OP = tf.summary.histogram(\"output\", activation_OP)\n",
    "\n",
    "# Summary op for accuracy\n",
    "accuracy_summary_OP = tf.summary.scalar(\"accuracy\", accuracy_OP)\n",
    "\n",
    "# Summary op for cost\n",
    "cost_summary_OP = tf.summary.scalar(\"cost\", cost_OP)\n",
    "\n",
    "# Summary ops to check how variables (W, b) are updating after each iteration\n",
    "weightSummary = tf.summary.histogram(\"weights\", weights.eval(session=sess))\n",
    "biasSummary = tf.summary.histogram(\"biases\", bias.eval(session=sess))\n",
    "\n",
    "# Merge all summaries\n",
    "merged = tf.summary.merge([activation_summary_OP, accuracy_summary_OP, cost_summary_OP, weightSummary, biasSummary])\n",
    "\n",
    "# Summary writer\n",
    "writer = tf.summary.FileWriter(\"summary_logs\", sess.graph)"
   ]
  },
  {
   "cell_type": "code",
   "execution_count": 23,
   "metadata": {
    "collapsed": false
   },
   "outputs": [
    {
     "name": "stdout",
     "output_type": "stream",
     "text": [
      "step 0, training accuracy 0.333333, cost 34.6925, change in cost 34.6925\n",
      "step 10, training accuracy 0.585859, cost 30.0522, change in cost 4.64031\n",
      "step 20, training accuracy 0.646465, cost 28.1274, change in cost 1.92484\n",
      "step 30, training accuracy 0.646465, cost 26.4992, change in cost 1.62816\n",
      "step 40, training accuracy 0.646465, cost 25.1434, change in cost 1.35578\n",
      "step 50, training accuracy 0.646465, cost 24.0213, change in cost 1.12207\n",
      "step 60, training accuracy 0.646465, cost 23.0912, change in cost 0.930103\n",
      "step 70, training accuracy 0.646465, cost 22.3155, change in cost 0.775721\n",
      "step 80, training accuracy 0.646465, cost 21.663, change in cost 0.652542\n",
      "step 90, training accuracy 0.646465, cost 21.1087, change in cost 0.554266\n",
      "step 100, training accuracy 0.666667, cost 20.6332, change in cost 0.475504\n",
      "step 110, training accuracy 0.666667, cost 20.2213, change in cost 0.411934\n",
      "step 120, training accuracy 0.666667, cost 19.8611, change in cost 0.360226\n",
      "step 130, training accuracy 0.666667, cost 19.5433, change in cost 0.317787\n",
      "step 140, training accuracy 0.666667, cost 19.2606, change in cost 0.282663\n",
      "step 150, training accuracy 0.666667, cost 19.0073, change in cost 0.253345\n",
      "step 160, training accuracy 0.686869, cost 18.7786, change in cost 0.228666\n",
      "step 170, training accuracy 0.686869, cost 18.5709, change in cost 0.207737\n",
      "step 180, training accuracy 0.69697, cost 18.381, change in cost 0.189856\n",
      "step 190, training accuracy 0.717172, cost 18.2065, change in cost 0.174467\n",
      "step 200, training accuracy 0.717172, cost 18.0454, change in cost 0.161139\n",
      "step 210, training accuracy 0.737374, cost 17.8959, change in cost 0.149521\n",
      "step 220, training accuracy 0.747475, cost 17.7565, change in cost 0.139339\n",
      "step 230, training accuracy 0.747475, cost 17.6262, change in cost 0.130363\n",
      "step 240, training accuracy 0.757576, cost 17.5038, change in cost 0.122412\n",
      "step 250, training accuracy 0.777778, cost 17.3884, change in cost 0.115328\n",
      "step 260, training accuracy 0.787879, cost 17.2794, change in cost 0.10899\n",
      "step 270, training accuracy 0.787879, cost 17.1761, change in cost 0.1033\n",
      "step 280, training accuracy 0.787879, cost 17.078, change in cost 0.0981598\n",
      "step 290, training accuracy 0.787879, cost 16.9845, change in cost 0.093504\n",
      "step 300, training accuracy 0.79798, cost 16.8952, change in cost 0.0892773\n",
      "step 310, training accuracy 0.79798, cost 16.8098, change in cost 0.0854092\n",
      "step 320, training accuracy 0.79798, cost 16.7279, change in cost 0.0818787\n",
      "step 330, training accuracy 0.79798, cost 16.6493, change in cost 0.0786266\n",
      "step 340, training accuracy 0.818182, cost 16.5737, change in cost 0.075634\n",
      "step 350, training accuracy 0.818182, cost 16.5008, change in cost 0.0728664\n",
      "step 360, training accuracy 0.828283, cost 16.4305, change in cost 0.0703087\n",
      "step 370, training accuracy 0.838384, cost 16.3626, change in cost 0.0679207\n",
      "step 380, training accuracy 0.838384, cost 16.2968, change in cost 0.0657082\n",
      "step 390, training accuracy 0.838384, cost 16.2332, change in cost 0.0636311\n",
      "step 400, training accuracy 0.848485, cost 16.1715, change in cost 0.0616932\n",
      "step 410, training accuracy 0.848485, cost 16.1116, change in cost 0.0598793\n",
      "step 420, training accuracy 0.848485, cost 16.0535, change in cost 0.0581722\n",
      "step 430, training accuracy 0.858586, cost 15.9969, change in cost 0.0565605\n",
      "step 440, training accuracy 0.858586, cost 15.9419, change in cost 0.0550442\n",
      "step 450, training accuracy 0.868687, cost 15.8883, change in cost 0.0536118\n",
      "step 460, training accuracy 0.878788, cost 15.836, change in cost 0.0522509\n",
      "step 470, training accuracy 0.878788, cost 15.785, change in cost 0.0509634\n",
      "step 480, training accuracy 0.878788, cost 15.7353, change in cost 0.0497408\n",
      "step 490, training accuracy 0.878788, cost 15.6867, change in cost 0.0485792\n",
      "step 500, training accuracy 0.878788, cost 15.6393, change in cost 0.0474672\n",
      "step 510, training accuracy 0.878788, cost 15.5928, change in cost 0.0464125\n",
      "step 520, training accuracy 0.878788, cost 15.5474, change in cost 0.0454035\n",
      "step 530, training accuracy 0.888889, cost 15.503, change in cost 0.0444374\n",
      "step 540, training accuracy 0.89899, cost 15.4595, change in cost 0.0435123\n",
      "step 550, training accuracy 0.89899, cost 15.4169, change in cost 0.0426254\n",
      "step 560, training accuracy 0.89899, cost 15.3751, change in cost 0.0417767\n",
      "step 570, training accuracy 0.89899, cost 15.3341, change in cost 0.0409613\n",
      "step 580, training accuracy 0.89899, cost 15.2939, change in cost 0.0401745\n",
      "step 590, training accuracy 0.909091, cost 15.2545, change in cost 0.0394154\n",
      "step 600, training accuracy 0.909091, cost 15.2158, change in cost 0.0386944\n",
      "step 610, training accuracy 0.909091, cost 15.1779, change in cost 0.0379868\n",
      "step 620, training accuracy 0.909091, cost 15.1405, change in cost 0.0373096\n",
      "step 630, training accuracy 0.909091, cost 15.1039, change in cost 0.0366602\n",
      "step 640, training accuracy 0.909091, cost 15.0679, change in cost 0.0360241\n",
      "step 650, training accuracy 0.909091, cost 15.0324, change in cost 0.0354128\n",
      "step 660, training accuracy 0.909091, cost 14.9976, change in cost 0.0348225\n",
      "step 670, training accuracy 0.909091, cost 14.9634, change in cost 0.0342503\n",
      "step 680, training accuracy 0.909091, cost 14.9297, change in cost 0.0336914\n",
      "step 690, training accuracy 0.909091, cost 14.8965, change in cost 0.0331545\n",
      "final accuracy on test set: 0.9\n"
     ]
    }
   ],
   "source": [
    "# Initialize reporting variables\n",
    "cost = 0\n",
    "diff = 1\n",
    "epoch_values = []\n",
    "accuracy_values = []\n",
    "cost_values = []\n",
    "\n",
    "# Training epochs\n",
    "for i in range(numEpochs):\n",
    "    if i > 1 and diff < .0001:\n",
    "        print(\"change in cost %g; convergence.\"%diff)\n",
    "        break\n",
    "    else:\n",
    "        # Run training step\n",
    "        step = sess.run(training_OP, feed_dict={X: trainX, yGold: trainY})\n",
    "        # Report occasional stats\n",
    "        if i % 10 == 0:\n",
    "            # Add epoch to epoch_values\n",
    "            epoch_values.append(i)\n",
    "            # Generate accuracy stats on test data\n",
    "            train_accuracy, newCost = sess.run([accuracy_OP, cost_OP], feed_dict={X: trainX, yGold: trainY})\n",
    "            # Add accuracy to live graphing variable\n",
    "            accuracy_values.append(train_accuracy)\n",
    "            # Add cost to live graphing variable\n",
    "            cost_values.append(newCost)\n",
    "            # Re-assign values for variables\n",
    "            diff = abs(newCost - cost)\n",
    "            cost = newCost\n",
    "\n",
    "            #generate print statements\n",
    "            print(\"step %d, training accuracy %g, cost %g, change in cost %g\"%(i, train_accuracy, newCost, diff))\n",
    "\n",
    "\n",
    "# How well do we perform on held-out test data?\n",
    "print(\"final accuracy on test set: %s\" %str(sess.run(accuracy_OP, \n",
    "                                                     feed_dict={X: testX, \n",
    "                                                                yGold: testY})))"
   ]
  },
  {
   "cell_type": "code",
   "execution_count": 24,
   "metadata": {
    "collapsed": false
   },
   "outputs": [
    {
     "name": "stderr",
     "output_type": "stream",
     "text": [
      "C:\\Program Files\\Anaconda3\\lib\\site-packages\\numpy\\core\\_methods.py:59: RuntimeWarning: Mean of empty slice.\n",
      "  warnings.warn(\"Mean of empty slice.\", RuntimeWarning)\n"
     ]
    },
    {
     "data": {
      "image/png": "[encoded data removed]",
      "text/plain": [
       "<matplotlib.figure.Figure at 0xcc33a20>"
      ]
     },
     "metadata": {},
     "output_type": "display_data"
    }
   ],
   "source": [
    "%matplotlib inline\n",
    "import numpy as np\n",
    "import matplotlib.pyplot as plt\n",
    "plt.plot([np.mean(cost_values[i-50:i]) for i in range(len(cost_values))])\n",
    "plt.show()"
   ]
  },
  {
   "cell_type": "code",
   "execution_count": null,
   "metadata": {
    "collapsed": true
   },
   "outputs": [],
   "source": []
  }
 ],
 "metadata": {
  "kernelspec": {
   "display_name": "Python [default]",
   "language": "python",
   "name": "python3"
  },
  "language_info": {
   "codemirror_mode": {
    "name": "ipython",
    "version": 3
   },
   "file_extension": ".py",
   "mimetype": "text/x-python",
   "name": "python",
   "nbconvert_exporter": "python",
   "pygments_lexer": "ipython3",
   "version": "3.5.2"
  }
 },
 "nbformat": 4,
 "nbformat_minor": 1
}
