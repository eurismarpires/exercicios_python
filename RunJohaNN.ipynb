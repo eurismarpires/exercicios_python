{
 "cells": [
  {
   "cell_type": "code",
   "execution_count": 1,
   "metadata": {},
   "outputs": [
    {
     "name": "stderr",
     "output_type": "stream",
     "text": [
      "Using TensorFlow backend.\n"
     ]
    }
   ],
   "source": [
    "from flask import Flask, request, render_template, jsonify\n",
    "from flask_bootstrap import Bootstrap\n",
    "from keras.models import load_model\n",
    "import boto3\n",
    "\n",
    "from forms import JohannForm\n",
    "from generate import generate_sequence, play_melody\n",
    "from utils import unpack_corpus, create_png_from_stream, create_midi_from_stream, upload_to_s3_bucket"
   ]
  },
  {
   "cell_type": "code",
   "execution_count": 2,
   "metadata": {},
   "outputs": [],
   "source": [
    "model_data = {\n",
    "    'corpus': unpack_corpus('corpus/bach_suites_corpus.pkl'),\n",
    "    'models': {}\n",
    "}"
   ]
  },
  {
   "cell_type": "code",
   "execution_count": 3,
   "metadata": {
    "collapsed": true
   },
   "outputs": [],
   "source": [
    "phrase_lengths = [10, 20, 35, 50]\n",
    "layer_size = 512\n",
    "step_size = 3"
   ]
  },
  {
   "cell_type": "code",
   "execution_count": 4,
   "metadata": {},
   "outputs": [],
   "source": [
    "for phrase_len in phrase_lengths:\n",
    "    model_data['models']['len_{}'.format(phrase_len)] = load_model('model_save/bach_model_{}_{}_{}.h5'.format(step_size, phrase_len, layer_size))"
   ]
  },
  {
   "cell_type": "code",
   "execution_count": 5,
   "metadata": {
    "collapsed": true
   },
   "outputs": [],
   "source": [
    "melody_corpus, melody_set, notes_indices, indices_notes = model_data['corpus']"
   ]
  },
  {
   "cell_type": "code",
   "execution_count": 6,
   "metadata": {},
   "outputs": [],
   "source": [
    "temperature = 1.7"
   ]
  },
  {
   "cell_type": "code",
   "execution_count": 7,
   "metadata": {
    "collapsed": true
   },
   "outputs": [],
   "source": [
    "phrase_len = 10"
   ]
  },
  {
   "cell_type": "code",
   "execution_count": 8,
   "metadata": {
    "collapsed": true
   },
   "outputs": [],
   "source": [
    "seq_len = 80"
   ]
  },
  {
   "cell_type": "code",
   "execution_count": 9,
   "metadata": {},
   "outputs": [],
   "source": [
    "model = model_data['models']['len_{}'.format(phrase_len)]"
   ]
  },
  {
   "cell_type": "code",
   "execution_count": 10,
   "metadata": {},
   "outputs": [
    {
     "data": {
      "text/plain": [
       "<keras.models.Sequential at 0x7fe0cf3df6d8>"
      ]
     },
     "execution_count": 10,
     "metadata": {},
     "output_type": "execute_result"
    }
   ],
   "source": [
    "model"
   ]
  },
  {
   "cell_type": "code",
   "execution_count": 11,
   "metadata": {
    "collapsed": true
   },
   "outputs": [],
   "source": [
    "songname = \"meu_som.midi\""
   ]
  },
  {
   "cell_type": "code",
   "execution_count": 12,
   "metadata": {
    "collapsed": true
   },
   "outputs": [],
   "source": [
    "melody = generate_sequence(model, seq_len, melody_corpus, melody_set, phrase_len, notes_indices, indices_notes, temperature)"
   ]
  },
  {
   "cell_type": "code",
   "execution_count": 13,
   "metadata": {},
   "outputs": [
    {
     "data": {
      "text/plain": [
       "[(41, 0.0, 0.25),\n",
       " (45, 0.0, 0.25),\n",
       " (43, 0.0, 0.25),\n",
       " (45, 1.0, 0.25),\n",
       " (41, 0.0, 0.25),\n",
       " (45, 0.0, 0.25),\n",
       " (41, 0.0, 0.25),\n",
       " (36, 4.0, 0.25),\n",
       " (47, 0.0, 0.25),\n",
       " (53, 0.0, 0.25),\n",
       " (48, 0.0, 0.25),\n",
       " (40, 0.0, 0.25),\n",
       " (48, 0.0, 0.25),\n",
       " (41, 4.0, 0.25),\n",
       " (43, 0.0, 0.25),\n",
       " (50, 0.0, 0.25),\n",
       " (46, 1.0, 0.25),\n",
       " (48, 0.0, 0.25),\n",
       " (48, 0.0, 0.25),\n",
       " (53, 0.0, 0.25),\n",
       " (43, 0.0, 0.25),\n",
       " (55, 0.0, 0.25),\n",
       " (43, 0.0, 0.25),\n",
       " (50, 0.0, 0.25),\n",
       " (50, 0.0, 0.25),\n",
       " (43, 0.0, 0.25),\n",
       " (43, 0.0, 0.25),\n",
       " (43, 0.0, 0.25),\n",
       " (52, 0.0, 0.25),\n",
       " (50, 0.0, 0.25),\n",
       " (47, 0.0, 0.25),\n",
       " (43, 0.0, 0.25),\n",
       " (43, 0.0, 0.25),\n",
       " (47, 2.0, 0.25),\n",
       " (43, 0.0, 0.25),\n",
       " (50, 0.0, 0.25),\n",
       " (43, 0.0, 0.25),\n",
       " (47, 0.0, 0.25),\n",
       " (52, 0.0, 0.25),\n",
       " (43, 0.0, 0.25),\n",
       " (43, 0.0, 0.25),\n",
       " (43, 0.0, 0.25),\n",
       " (48, 0.0, 0.25),\n",
       " (43, 0.0, 0.25),\n",
       " (43, 0.0, 0.25),\n",
       " (50, 0.0, 0.25),\n",
       " (43, 0.0, 0.25),\n",
       " (43, 0.0, 0.25),\n",
       " (50, 0.0, 0.25),\n",
       " (43, 0.0, 0.25),\n",
       " (29, 2.0, 0.25),\n",
       " (48, 0.0, 0.25),\n",
       " (53, 0.0, 0.25),\n",
       " (0, 0.0, 3.75),\n",
       " (43, 0.0, 0.25),\n",
       " (44, 2.0, 0.25),\n",
       " (33, 4.0, 0.25),\n",
       " (50, 0.0, 0.25),\n",
       " (43, 0.0, 0.25),\n",
       " (43, 0.0, 0.25),\n",
       " (50, 0.0, 0.25),\n",
       " (47, 1.0, 0.25),\n",
       " (43, 0.0, 0.25),\n",
       " (53, 0.0, 0.25),\n",
       " (55, 0.0, 0.25),\n",
       " (43, 0.0, 0.25),\n",
       " (52, 4.0, 0.25),\n",
       " (50, 0.0, 0.25),\n",
       " (43, 0.0, 0.25),\n",
       " (47, 0.0, 0.25),\n",
       " (43, 0.0, 0.25),\n",
       " (50, 0.0, 0.25),\n",
       " (43, 0.0, 0.25),\n",
       " (44, 0.0, 0.25),\n",
       " (47, 0.0, 0.25),\n",
       " (43, 0.0, 0.25),\n",
       " (50, 0.0, 0.25),\n",
       " (55, 0.0, 0.25),\n",
       " (43, 0.0, 0.25),\n",
       " (40, 0.0, 0.25),\n",
       " (43, 0.0, 0.25),\n",
       " (43, 0.0, 0.25),\n",
       " (43, 0.0, 0.25),\n",
       " (43, 0.0, 0.25),\n",
       " (43, 0.0, 0.25),\n",
       " (43, 0.0, 0.25),\n",
       " (60, 2.0, 0.25),\n",
       " (38, 0.0, 0.25),\n",
       " (55, 0.0, 0.75),\n",
       " (43, 0.0, 0.25)]"
      ]
     },
     "execution_count": 13,
     "metadata": {},
     "output_type": "execute_result"
    }
   ],
   "source": [
    "melody"
   ]
  },
  {
   "cell_type": "code",
   "execution_count": 14,
   "metadata": {
    "collapsed": true
   },
   "outputs": [],
   "source": [
    "stream = play_melody(melody)"
   ]
  },
  {
   "cell_type": "code",
   "execution_count": 15,
   "metadata": {},
   "outputs": [
    {
     "data": {
      "text/plain": [
       "<music21.stream.Stream 0x7fe0a17aae80>"
      ]
     },
     "execution_count": 15,
     "metadata": {},
     "output_type": "execute_result"
    }
   ],
   "source": [
    "stream"
   ]
  },
  {
   "cell_type": "code",
   "execution_count": 16,
   "metadata": {
    "collapsed": true
   },
   "outputs": [],
   "source": [
    "create_midi_from_stream(stream, songname)"
   ]
  },
  {
   "cell_type": "code",
   "execution_count": 17,
   "metadata": {},
   "outputs": [
    {
     "data": {
      "text/plain": [
       "'meu_som.midi'"
      ]
     },
     "execution_count": 17,
     "metadata": {},
     "output_type": "execute_result"
    }
   ],
   "source": [
    "songname"
   ]
  },
  {
   "cell_type": "code",
   "execution_count": 18,
   "metadata": {},
   "outputs": [],
   "source": [
    "#png_path = create_png_from_stream(stream, songname)\n",
    "from IPython.display import *"
   ]
  },
  {
   "cell_type": "code",
   "execution_count": 19,
   "metadata": {},
   "outputs": [],
   "source": [
    "#stream.show()"
   ]
  },
  {
   "cell_type": "code",
   "execution_count": 21,
   "metadata": {},
   "outputs": [
    {
     "data": {
      "image/png": "[encoded data removed]",
      "text/plain": [
       "<IPython.core.display.Image object>"
      ]
     },
     "execution_count": 21,
     "metadata": {},
     "output_type": "execute_result"
    }
   ],
   "source": [
    "Image(filename=stream.write('lily.png'))"
   ]
  },
  {
   "cell_type": "code",
   "execution_count": 22,
   "metadata": {},
   "outputs": [
    {
     "name": "stdout",
     "output_type": "stream",
     "text": [
      "{0.0} <music21.stream.Part 0x7fe09daffc50>\n",
      "    {0.0} <music21.instrument.Harpsichord Harpsichord>\n",
      "    {0.0} <music21.clef.BassClef>\n",
      "    {0.0} <music21.stream.Voice 0x7fe09dac5f60>\n",
      "        {0.0} <music21.note.Note F>\n",
      "        {0.25} <music21.note.Note A>\n",
      "        {0.5} <music21.note.Note G>\n",
      "        {0.75} <music21.note.Note A>\n",
      "        {1.0} <music21.note.Note F>\n",
      "        {1.25} <music21.note.Note A>\n",
      "        {1.5} <music21.note.Note F>\n",
      "        {1.75} <music21.note.Note C>\n",
      "        {2.0} <music21.note.Note B>\n",
      "        {2.25} <music21.note.Note F>\n",
      "        {2.5} <music21.note.Note C>\n",
      "        {2.75} <music21.note.Note E>\n",
      "        {3.0} <music21.note.Note C>\n",
      "        {3.25} <music21.note.Note F>\n",
      "        {3.5} <music21.note.Note G>\n",
      "        {3.75} <music21.note.Note D>\n",
      "        {4.0} <music21.note.Note B->\n",
      "        {4.25} <music21.note.Note C>\n",
      "        {4.5} <music21.note.Note C>\n",
      "        {4.75} <music21.note.Note F>\n",
      "        {5.0} <music21.note.Note G>\n",
      "        {5.25} <music21.note.Note G>\n",
      "        {5.5} <music21.note.Note G>\n",
      "        {5.75} <music21.note.Note D>\n",
      "        {6.0} <music21.note.Note D>\n",
      "        {6.25} <music21.note.Note G>\n",
      "        {6.5} <music21.note.Note G>\n",
      "        {6.75} <music21.note.Note G>\n",
      "        {7.0} <music21.note.Note E>\n",
      "        {7.25} <music21.note.Note D>\n",
      "        {7.5} <music21.note.Note B>\n",
      "        {7.75} <music21.note.Note G>\n",
      "        {8.0} <music21.note.Note G>\n",
      "        {8.25} <music21.note.Note B>\n",
      "        {8.5} <music21.note.Note G>\n",
      "        {8.75} <music21.note.Note D>\n",
      "        {9.0} <music21.note.Note G>\n",
      "        {9.25} <music21.note.Note B>\n",
      "        {9.5} <music21.note.Note E>\n",
      "        {9.75} <music21.note.Note G>\n",
      "        {10.0} <music21.note.Note G>\n",
      "        {10.25} <music21.note.Note G>\n",
      "        {10.5} <music21.note.Note C>\n",
      "        {10.75} <music21.note.Note G>\n",
      "        {11.0} <music21.note.Note G>\n",
      "        {11.25} <music21.note.Note D>\n",
      "        {11.5} <music21.note.Note G>\n",
      "        {11.75} <music21.note.Note G>\n",
      "        {12.0} <music21.note.Note D>\n",
      "        {12.25} <music21.note.Note G>\n",
      "        {12.5} <music21.note.Note F>\n",
      "        {12.75} <music21.note.Note C>\n",
      "        {13.0} <music21.note.Note F>\n",
      "        {13.25} <music21.note.Rest rest>\n",
      "        {17.0} <music21.note.Note G>\n",
      "        {17.25} <music21.note.Note G#>\n",
      "        {17.5} <music21.note.Note A>\n",
      "        {17.75} <music21.note.Note D>\n",
      "        {18.0} <music21.note.Note G>\n",
      "        {18.25} <music21.note.Note G>\n",
      "        {18.5} <music21.note.Note D>\n",
      "        {18.75} <music21.note.Note B>\n",
      "        {19.0} <music21.note.Note G>\n",
      "        {19.25} <music21.note.Note F>\n",
      "        {19.5} <music21.note.Note G>\n",
      "        {19.75} <music21.note.Note G>\n",
      "        {20.0} <music21.note.Note E>\n",
      "        {20.25} <music21.note.Note D>\n",
      "        {20.5} <music21.note.Note G>\n",
      "        {20.75} <music21.note.Note B>\n",
      "        {21.0} <music21.note.Note G>\n",
      "        {21.25} <music21.note.Note D>\n",
      "        {21.5} <music21.note.Note G>\n",
      "        {21.75} <music21.note.Note G#>\n",
      "        {22.0} <music21.note.Note B>\n",
      "        {22.25} <music21.note.Note G>\n",
      "        {22.5} <music21.note.Note D>\n",
      "        {22.75} <music21.note.Note G>\n",
      "        {23.0} <music21.note.Note G>\n",
      "        {23.25} <music21.note.Note E>\n",
      "        {23.5} <music21.note.Note G>\n",
      "        {23.75} <music21.note.Note G>\n",
      "        {24.0} <music21.note.Note G>\n",
      "        {24.25} <music21.note.Note G>\n",
      "        {24.5} <music21.note.Note G>\n",
      "        {24.75} <music21.note.Note G>\n",
      "        {25.0} <music21.note.Note C>\n",
      "        {25.25} <music21.note.Note D>\n",
      "        {25.5} <music21.note.Note G>\n",
      "        {26.25} <music21.note.Note G>\n"
     ]
    }
   ],
   "source": [
    "stream.show('text')"
   ]
  },
  {
   "cell_type": "code",
   "execution_count": null,
   "metadata": {
    "collapsed": true
   },
   "outputs": [],
   "source": []
  }
 ],
 "metadata": {
  "anaconda-cloud": {},
  "kernelspec": {
   "display_name": "Python [default]",
   "language": "python",
   "name": "python3"
  },
  "language_info": {
   "codemirror_mode": {
    "name": "ipython",
    "version": 3
   },
   "file_extension": ".py",
   "mimetype": "text/x-python",
   "name": "python",
   "nbconvert_exporter": "python",
   "pygments_lexer": "ipython3",
   "version": "3.5.2"
  }
 },
 "nbformat": 4,
 "nbformat_minor": 1
}
