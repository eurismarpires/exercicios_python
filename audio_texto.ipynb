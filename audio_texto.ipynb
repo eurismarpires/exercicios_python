{
 "cells": [
  {
   "cell_type": "code",
   "execution_count": 7,
   "metadata": {
    "collapsed": true
   },
   "outputs": [],
   "source": [
    "import os\n",
    "import glob"
   ]
  },
  {
   "cell_type": "code",
   "execution_count": 8,
   "metadata": {
    "collapsed": false
   },
   "outputs": [],
   "source": [
    "def audioTexto(qtde):\n",
    "    arquivos_e_diretorios = os.listdir('data/') #lista de arquivos e diretórios\n",
    "    diretorios = []\n",
    "    #pega somente os diretórios e coloca na lista de diretorios\n",
    "    for arquivo in arquivos_e_diretorios:\n",
    "            if arquivo.find('.tgz') == -1:\n",
    "                diretorios.append(arquivo)   \n",
    "    \n",
    "    #pega somente os arquivos wav e coloca na lista de waves\n",
    "    waves = []    \n",
    "    for diretorio in diretorios:\n",
    "        for file in glob.glob('data/' + diretorio+'/wav/*.wav'):\n",
    "            waves.append(file)\n",
    "    lista_audio = []\n",
    "    lista_texto = []\n",
    "    lista_audio_texto = lista_audio, lista_texto    \n",
    "    for w in waves[:qtde]:\n",
    "        txt = w[:-11]+'etc/prompts-original' #pega o nome e retira os últimos 11 digitos e completa do /etc até o txt\n",
    "        numero = w[-7:-4]  #pega somente o número do arquivo de áudio\n",
    "        try:\n",
    "            for line in open(txt):\n",
    "                if(line.strip().startswith(numero)): #pega o texto a partir do número do audio\n",
    "                    print(w + \" \" + line)\n",
    "                    lista_audio.append(w)\n",
    "                    lista_texto.append(line)\n",
    "        except IOError as e:\n",
    "            print(\"Não encontrou o arquivo:\" + w)  \n",
    "    return lista_audio, lista_texto"
   ]
  },
  {
   "cell_type": "code",
   "execution_count": 9,
   "metadata": {
    "collapsed": false
   },
   "outputs": [
    {
     "name": "stdout",
     "output_type": "stream",
     "text": [
      "data/rubbermaiden-20160714-uqv/wav/064.wav 064 De quem é a caneta? \n",
      "\n",
      "data/rubbermaiden-20160714-uqv/wav/071.wav 071 Eu e Pedro andamos a cavalo nos sábados. \n",
      "\n",
      "data/rubbermaiden-20160714-uqv/wav/068.wav 068 Por que você comprou essa revista? \n",
      "\n"
     ]
    }
   ],
   "source": [
    "t = audioTexto(3)"
   ]
  },
  {
   "cell_type": "code",
   "execution_count": 10,
   "metadata": {
    "collapsed": false
   },
   "outputs": [
    {
     "data": {
      "text/plain": [
       "(['data/rubbermaiden-20160714-uqv/wav/064.wav',\n",
       "  'data/rubbermaiden-20160714-uqv/wav/071.wav',\n",
       "  'data/rubbermaiden-20160714-uqv/wav/068.wav'],\n",
       " ['064 De quem é a caneta? \\n',\n",
       "  '071 Eu e Pedro andamos a cavalo nos sábados. \\n',\n",
       "  '068 Por que você comprou essa revista? \\n'])"
      ]
     },
     "execution_count": 10,
     "metadata": {},
     "output_type": "execute_result"
    }
   ],
   "source": [
    "t"
   ]
  },
  {
   "cell_type": "code",
   "execution_count": null,
   "metadata": {
    "collapsed": true
   },
   "outputs": [],
   "source": []
  }
 ],
 "metadata": {
  "anaconda-cloud": {},
  "kernelspec": {
   "display_name": "Python [default]",
   "language": "python",
   "name": "python3"
  },
  "language_info": {
   "codemirror_mode": {
    "name": "ipython",
    "version": 3
   },
   "file_extension": ".py",
   "mimetype": "text/x-python",
   "name": "python",
   "nbconvert_exporter": "python",
   "pygments_lexer": "ipython3",
   "version": "3.5.2"
  }
 },
 "nbformat": 4,
 "nbformat_minor": 1
}
