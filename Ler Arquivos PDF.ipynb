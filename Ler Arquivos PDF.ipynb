{
 "cells": [
  {
   "cell_type": "code",
   "execution_count": null,
   "metadata": {
    "collapsed": true
   },
   "outputs": [],
   "source": [
    "from pdfminer.pdfinterp import PDFResourceManager, process_pdf\n",
    "from pdfminer.converter import TextConverter\n",
    "from pdfminer.layout import LAParams\n",
    "from io import StringIO\n",
    "from urllib.request import urlopen"
   ]
  },
  {
   "cell_type": "code",
   "execution_count": null,
   "metadata": {
    "collapsed": true
   },
   "outputs": [],
   "source": [
    "def lerPDF(arquivoPDF):\n",
    "    # PDFResourceManager Usado para armazenar recursos compartilhados\n",
    "    # como fontes e imagens\n",
    "    recursos = PDFResourceManager()\n",
    "    buffer = StringIO()\n",
    "    layoutParams = LAParams()\n",
    "    dispositivo = TextConverter(recursos, buffer, laparams=layoutParams)\n",
    "    process_pdf(recursos, dispositivo, arquivoPDF)\n",
    "    dispositivo.close()\n",
    "    conteudo = buffer.getvalue()\n",
    "    buffer.close()\n",
    "    return conteudo"
   ]
  },
  {
   "cell_type": "code",
   "execution_count": null,
   "metadata": {
    "collapsed": true
   },
   "outputs": [],
   "source": [
    "arq = \"file:///home/eurismar/Downloads/faturas_credicard/Extrato%202019-10.pdf\""
   ]
  },
  {
   "cell_type": "code",
   "execution_count": null,
   "metadata": {},
   "outputs": [],
   "source": [
    "# Abrindo arquivo PDF online\n",
    "arquivoPDF = urlopen(arq)\n",
    "stringSaida = lerPDF(arquivoPDF)\n",
    "print(stringSaida)\n",
    "arquivoPDF.close()\n",
    "\n"
   ]
  },
  {
   "cell_type": "code",
   "execution_count": 8,
   "metadata": {},
   "outputs": [
    {
     "name": "stdout",
     "output_type": "stream",
     "text": [
      "/home/eurismar\r\n"
     ]
    }
   ],
   "source": [
    "!pwd"
   ]
  },
  {
   "cell_type": "code",
   "execution_count": null,
   "metadata": {
    "collapsed": true
   },
   "outputs": [],
   "source": []
  }
 ],
 "metadata": {
  "kernelspec": {
   "display_name": "Python 3",
   "language": "python",
   "name": "python3"
  },
  "language_info": {
   "codemirror_mode": {
    "name": "ipython",
    "version": 3
   },
   "file_extension": ".py",
   "mimetype": "text/x-python",
   "name": "python",
   "nbconvert_exporter": "python",
   "pygments_lexer": "ipython3",
   "version": "3.6.3"
  }
 },
 "nbformat": 4,
 "nbformat_minor": 2
}
