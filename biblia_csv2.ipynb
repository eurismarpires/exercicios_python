{
  "nbformat": 4,
  "nbformat_minor": 0,
  "metadata": {
    "colab": {
      "name": "biblia_csv2.ipynb",
      "version": "0.3.2",
      "provenance": []
    },
    "kernelspec": {
      "display_name": "Python 3",
      "language": "python",
      "name": "python3"
    }
  },
  "cells": [
    {
      "cell_type": "markdown",
      "metadata": {
        "id": "view-in-github",
        "colab_type": "text"
      },
      "source": [
        "[View in Colaboratory](https://colab.research.google.com/github/eurismarpires/exercicios_python/blob/master/biblia_csv2.ipynb)"
      ]
    },
    {
      "metadata": {
        "id": "1Q4749PNYg1o",
        "colab_type": "code",
        "colab": {}
      },
      "cell_type": "code",
      "source": [
        "import requests\n",
        "from bs4 import BeautifulSoup"
      ],
      "execution_count": 0,
      "outputs": []
    },
    {
      "metadata": {
        "id": "rFzFRaXyYg1t",
        "colab_type": "code",
        "colab": {}
      },
      "cell_type": "code",
      "source": [
        "livro = '01'\n",
        "cap = '3'"
      ],
      "execution_count": 0,
      "outputs": []
    },
    {
      "metadata": {
        "id": "I_XHthSbYg1w",
        "colab_type": "code",
        "colab": {}
      },
      "cell_type": "code",
      "source": [
        "filePt = \"https://www.wordproject.org/bibles/po/{}/{}.htm#0\".format(livro,cap)\n",
        "fileIng = \"https://www.wordproject.org/bibles/kj/{}/{}.htm#0\".format(livro,cap)"
      ],
      "execution_count": 0,
      "outputs": []
    },
    {
      "metadata": {
        "id": "nPz4dsDeYg1y",
        "colab_type": "code",
        "colab": {},
        "outputId": "ee8c3928-4f1e-4318-ce4b-af69f039a31e"
      },
      "cell_type": "code",
      "source": [
        "filePt"
      ],
      "execution_count": 0,
      "outputs": [
        {
          "output_type": "execute_result",
          "data": {
            "text/plain": [
              "'https://www.wordproject.org/bibles/po/01/3.htm#0'"
            ]
          },
          "metadata": {
            "tags": []
          },
          "execution_count": 34
        }
      ]
    },
    {
      "metadata": {
        "id": "MyEFyyITYg13",
        "colab_type": "code",
        "colab": {}
      },
      "cell_type": "code",
      "source": [
        "page = requests.get(filePt)"
      ],
      "execution_count": 0,
      "outputs": []
    },
    {
      "metadata": {
        "id": "bMN7bHY8Yg15",
        "colab_type": "code",
        "colab": {},
        "outputId": "672b9250-c398-4326-f909-1623e61661ea"
      },
      "cell_type": "code",
      "source": [
        "page"
      ],
      "execution_count": 0,
      "outputs": [
        {
          "output_type": "execute_result",
          "data": {
            "text/plain": [
              "<Response [200]>"
            ]
          },
          "metadata": {
            "tags": []
          },
          "execution_count": 36
        }
      ]
    },
    {
      "metadata": {
        "id": "ITgf5XwPYg18",
        "colab_type": "code",
        "colab": {}
      },
      "cell_type": "code",
      "source": [
        "soup = BeautifulSoup(page.content, 'html.parser')"
      ],
      "execution_count": 0,
      "outputs": []
    },
    {
      "metadata": {
        "id": "g29u_BjbYg1-",
        "colab_type": "code",
        "colab": {}
      },
      "cell_type": "code",
      "source": [
        "p = soup.find_all('p')"
      ],
      "execution_count": 0,
      "outputs": []
    },
    {
      "metadata": {
        "id": "AkNuA_KKYg2A",
        "colab_type": "code",
        "colab": {}
      },
      "cell_type": "code",
      "source": [
        "capitulo = p[2]"
      ],
      "execution_count": 0,
      "outputs": []
    },
    {
      "metadata": {
        "id": "_-uL95cvYg2C",
        "colab_type": "code",
        "colab": {},
        "outputId": "617b8912-4a5c-4f97-a0a2-b0cefed678d0"
      },
      "cell_type": "code",
      "source": [
        "def concatenate_list_data(list):\n",
        "    result= ''\n",
        "    for element in list:\n",
        "        result += str(element)\n",
        "    return result\n",
        "\n",
        "print(concatenate_list_data([1, 5, 12, 2]))"
      ],
      "execution_count": 0,
      "outputs": [
        {
          "output_type": "stream",
          "text": [
            "15122\n"
          ],
          "name": "stdout"
        }
      ]
    },
    {
      "metadata": {
        "id": "pMEuCrJtYg2F",
        "colab_type": "code",
        "colab": {}
      },
      "cell_type": "code",
      "source": [
        "def limpar_texto(raw_text):\n",
        "    text = raw_text.split('<span class=')\n",
        "    lista = []\n",
        "    for linha in text:\n",
        "        pos = linha.find('>')\n",
        "        if pos > 0:\n",
        "            txt = linha[pos:]\n",
        "            lista.append(txt.replace('</span>','').replace('> ','').replace('<br/>','').replace('\\n','').replace('>',''))\n",
        "    return lista"
      ],
      "execution_count": 0,
      "outputs": []
    },
    {
      "metadata": {
        "id": "gGJchAyCYg2I",
        "colab_type": "code",
        "colab": {}
      },
      "cell_type": "code",
      "source": [
        "def limpar_texto2(raw_text):\n",
        "    xx = raw_text.split(\"id=\")\n",
        "    yy = xx[1:]\n",
        "    lista = []\n",
        "    for linha in yy:\n",
        "        pos = linha.find(\">\") \n",
        "        ss = linha[pos:].replace('</span>','').replace('\\n<br/><span class=\"verse\" ','').replace('<span class=\"person\">','')\n",
        "        ss = ss.replace('<span class=\"place\">','').replace('\\n','').replace('> ','').replace('>','')\n",
        "        lista.append(ss) \n",
        "    return lista"
      ],
      "execution_count": 0,
      "outputs": []
    },
    {
      "metadata": {
        "id": "OZCxTcrBYg2L",
        "colab_type": "code",
        "colab": {}
      },
      "cell_type": "code",
      "source": [
        "conteudo = capitulo.contents\n",
        "raw_text = concatenate_list_data(conteudo)\n",
        "texto_portugues = limpar_texto2(raw_text)"
      ],
      "execution_count": 0,
      "outputs": []
    },
    {
      "metadata": {
        "id": "zfIie3QIYg2O",
        "colab_type": "code",
        "colab": {},
        "outputId": "156e1060-cd78-4b39-f08e-e898bc14aea2"
      },
      "cell_type": "code",
      "source": [
        "len(texto_portugues)"
      ],
      "execution_count": 0,
      "outputs": [
        {
          "output_type": "execute_result",
          "data": {
            "text/plain": [
              "24"
            ]
          },
          "metadata": {
            "tags": []
          },
          "execution_count": 44
        }
      ]
    },
    {
      "metadata": {
        "id": "bvTIIAw0Yg2R",
        "colab_type": "code",
        "colab": {},
        "outputId": "cc4daebd-ccaa-4a5a-92d3-b613f607bade"
      },
      "cell_type": "code",
      "source": [
        "texto_portugues"
      ],
      "execution_count": 0,
      "outputs": [
        {
          "output_type": "execute_result",
          "data": {
            "text/plain": [
              "['1  Ora, a serpente era mais astuta que todas as alimárias do campo que o SENHOR Deus tinha feito. E esta disse à mulher: É assim que Deus disse: Não comereis de toda árvore do jardim?',\n",
              " '2  E disse a mulher à serpente: Do fruto das árvores do jardim comeremos,',\n",
              " '3  mas, do fruto da árvore que está no meio do jardim, disse Deus: Não comereis dele, nem nele tocareis, para que não morrais.',\n",
              " '4  Então, a serpente disse à mulher: Certamente não morrereis.',\n",
              " '5  Porque Deus sabe que, no dia em que dele comerdes, se abrirão os vossos olhos, e sereis como Deus, sabendo o bem e o mal.',\n",
              " '6  E, vendo a mulher que aquela árvore era boa para se comer, e agradável aos olhos, e árvore desejável para dar entendimento, tomou do seu fruto, e comeu, e deu também a seu marido, e ele comeu com ela.',\n",
              " '7  Então, foram abertos os olhos de ambos, e conheceram que estavam nus; e coseram folhas de figueira, e fizeram para si aventais.',\n",
              " '8  E ouviram a voz do SENHOR Deus, que passeava no jardim pela viração do dia; e escondeu-se Adão e sua mulher da presença do SENHOR Deus, entre as árvores do jardim.',\n",
              " '9  E chamou o SENHOR Deus a Adão e disse-lhe: Onde estás?',\n",
              " '10  E ele disse: Ouvi a tua voz soar no jardim, e temi, porque estava nu, e escondi-me.',\n",
              " '11  E Deus disse: Quem te mostrou que estavas nu? Comeste tu da árvore de que te ordenei que não comesses?',\n",
              " '12  Então, disse Adão: A mulher que me deste por companheira, ela me deu da árvore, e comi.',\n",
              " '13  E disse o SENHOR Deus à mulher: Por que fizeste isso? E disse a mulher: A serpente me enganou, e eu comi.',\n",
              " '14  Então, o SENHOR Deus disse à serpente: Porquanto fizeste isso, maldita serás mais que toda besta e mais que todos os animais do campo; sobre o teu ventre andarás e pó comerás todos os dias da tua vida.',\n",
              " '15  E porei inimizade entre ti e a mulher e entre a tua semente e a sua semente; esta te ferirá a cabeça, e tu lhe ferirás o calcanhar.',\n",
              " '16  E à mulher disse: Multiplicarei grandemente a tua dor e a tua conceição; com dor terás filhos; e o teu desejo será para o teu marido, e ele te dominará.',\n",
              " '17  E a Adão disse: Porquanto deste ouvidos à voz de tua mulher e comeste da árvore de que te ordenei, dizendo: Não comerás dela, maldita é a terra por causa de ti; com dor comerás dela todos os dias da tua vida.',\n",
              " '18  Espinhos e cardos também te produzirá; e comerás a erva do campo.',\n",
              " '19  No suor do teu rosto, comerás o teu pão, até que te tornes à terra; porque dela foste tomado, porquanto és pó e em pó te tornarás.',\n",
              " '20  E chamou Adão o nome de sua mulher Eva, porquanto ela era a mãe de todos os viventes.',\n",
              " '21  E fez o SENHOR Deus a Adão e a sua mulher túnicas de peles e os vestiu.',\n",
              " '22  Então, disse o SENHOR Deus: Eis que o homem é como um de nós, sabendo o bem e o mal; ora, pois, para que não estenda a sua mão, e tome também da árvore da vida, e coma, e viva eternamente,',\n",
              " '23  o SENHOR Deus, pois, o lançou fora do jardim do Éden, para lavrar a terra, de que fora tomado.',\n",
              " '24  E, havendo lançado fora o homem, pôs querubins ao oriente do jardim do Éden e uma espada inflamada que andava ao redor, para guardar o caminho da árvore da vida.']"
            ]
          },
          "metadata": {
            "tags": []
          },
          "execution_count": 45
        }
      ]
    },
    {
      "metadata": {
        "id": "rOWeTnAtYg2U",
        "colab_type": "text"
      },
      "cell_type": "markdown",
      "source": [
        "## inglês"
      ]
    },
    {
      "metadata": {
        "id": "lE6BjwsmYg2V",
        "colab_type": "code",
        "colab": {}
      },
      "cell_type": "code",
      "source": [
        "page2 = requests.get(fileIng)"
      ],
      "execution_count": 0,
      "outputs": []
    },
    {
      "metadata": {
        "id": "MLSuK09qYg2d",
        "colab_type": "code",
        "colab": {}
      },
      "cell_type": "code",
      "source": [
        "soup2 = BeautifulSoup(page2.content, 'html.parser')"
      ],
      "execution_count": 0,
      "outputs": []
    },
    {
      "metadata": {
        "id": "p794qytyYg2g",
        "colab_type": "code",
        "colab": {}
      },
      "cell_type": "code",
      "source": [
        "p2 = soup2.find_all('p')"
      ],
      "execution_count": 0,
      "outputs": []
    },
    {
      "metadata": {
        "id": "jxN3EbXiYg2l",
        "colab_type": "code",
        "colab": {}
      },
      "cell_type": "code",
      "source": [
        "capitulo2 = p2[2]"
      ],
      "execution_count": 0,
      "outputs": []
    },
    {
      "metadata": {
        "id": "_rdbxkv0Yg2o",
        "colab_type": "code",
        "colab": {}
      },
      "cell_type": "code",
      "source": [
        "conteudo2 = capitulo2.contents\n",
        "raw_text2 = concatenate_list_data(conteudo2)\n",
        "texto_ingles = limpar_texto2(raw_text2)"
      ],
      "execution_count": 0,
      "outputs": []
    },
    {
      "metadata": {
        "id": "m1pNjUchYg2q",
        "colab_type": "code",
        "colab": {},
        "outputId": "7d89a90f-2db8-4605-e3ba-6b57fd445040"
      },
      "cell_type": "code",
      "source": [
        "texto_ingles"
      ],
      "execution_count": 0,
      "outputs": [
        {
          "output_type": "execute_result",
          "data": {
            "text/plain": [
              "['1 Now the serpent was more subtil than any beast of the field which the LORD God had made. And he said unto the woman, Yea, hath God said, Ye shall not eat of every tree of the garden?',\n",
              " '2 And the woman said unto the serpent, We may eat of the fruit of the trees of the garden:',\n",
              " '3 But of the fruit of the tree which is in the midst of the garden, God hath said, Ye shall not eat of it, neither shall ye touch it, lest ye die.',\n",
              " '4 And the serpent said unto the woman, Ye shall not surely die:',\n",
              " '5 For God doth know that in the day ye eat thereof, then your eyes shall be opened, and ye shall be as gods, knowing good and evil.',\n",
              " '6 And when the woman saw that the tree was good for food, and that it was pleasant to the eyes, and a tree to be desired to make one wise, she took of the fruit thereof, and did eat, and gave also unto her husband with her; and he did eat.',\n",
              " '7 And the eyes of them both were opened, and they knew that they were naked; and they sewed fig leaves together, and made themselves aprons.',\n",
              " '8 And they heard the voice of the LORD God walking in the garden in the cool of the day: and Adam and his wife hid themselves from the presence of the LORD God amongst the trees of the garden.',\n",
              " '9 And the LORD God called unto Adam, and said unto him, Where art thou?',\n",
              " '10 And he said, I heard thy voice in the garden, and I was afraid, because I was naked; and I hid myself.',\n",
              " '11 And he said, Who told thee that thou wast naked? Hast thou eaten of the tree, whereof I commanded thee that thou shouldest not eat?',\n",
              " '12 And the man said, The woman whom thou gavest to be with me, she gave me of the tree, and I did eat.',\n",
              " '13 And the LORD God said unto the woman, What is this that thou hast done? And the woman said, The serpent beguiled me, and I did eat.',\n",
              " '14 And the LORD God said unto the serpent, Because thou hast done this, thou art cursed above all cattle, and above every beast of the field; upon thy belly shalt thou go, and dust shalt thou eat all the days of thy life:',\n",
              " '15 And I will put enmity between thee and the woman, and between thy seed and her seed; it shall bruise thy head, and thou shalt bruise his heel.',\n",
              " '16 Unto the woman he said, I will greatly multiply thy sorrow and thy conception; in sorrow thou shalt bring forth children; and thy desire shall be to thy husband, and he shall rule over thee.',\n",
              " '17 And unto Adam he said, Because thou hast hearkened unto the voice of thy wife, and hast eaten of the tree, of which I commanded thee, saying, Thou shalt not eat of it: cursed is the ground for thy sake; in sorrow shalt thou eat of it all the days of thy life;',\n",
              " '18 Thorns also and thistles shall it bring forth to thee; and thou shalt eat the herb of the field;',\n",
              " '19 In the sweat of thy face shalt thou eat bread, till thou return unto the ground; for out of it wast thou taken: for dust thou art, and unto dust shalt thou return.',\n",
              " \"20 And Adam called his wife's name Eve; because she was the mother of all living.\",\n",
              " '21 Unto Adam also and to his wife did the LORD God make coats of skins, and clothed them.',\n",
              " '22 And the LORD God said, Behold, the man is become as one of us, to know good and evil: and now, lest he put forth his hand, and take also of the tree of life, and eat, and live for ever:',\n",
              " '23 Therefore the LORD God sent him forth from the garden of Eden, to till the ground from whence he was taken.',\n",
              " '24 So he drove out the man; and he placed at the east of the garden of Eden Cherubims, and a flaming sword which turned every way, to keep the way of the tree of life.']"
            ]
          },
          "metadata": {
            "tags": []
          },
          "execution_count": 51
        }
      ]
    },
    {
      "metadata": {
        "id": "RDVHijxnYg2t",
        "colab_type": "code",
        "colab": {},
        "outputId": "3f06bc59-4e81-4397-aa87-e618a115a36b"
      },
      "cell_type": "code",
      "source": [
        "texto_portugues[2]"
      ],
      "execution_count": 0,
      "outputs": [
        {
          "output_type": "execute_result",
          "data": {
            "text/plain": [
              "'3  mas, do fruto da árvore que está no meio do jardim, disse Deus: Não comereis dele, nem nele tocareis, para que não morrais.'"
            ]
          },
          "metadata": {
            "tags": []
          },
          "execution_count": 52
        }
      ]
    },
    {
      "metadata": {
        "id": "1RRte-4EYg2v",
        "colab_type": "code",
        "colab": {},
        "outputId": "ccea6255-98b0-4cbb-ee28-b5cf7ef7efb0"
      },
      "cell_type": "code",
      "source": [
        "texto_ingles[2]"
      ],
      "execution_count": 0,
      "outputs": [
        {
          "output_type": "execute_result",
          "data": {
            "text/plain": [
              "'3 But of the fruit of the tree which is in the midst of the garden, God hath said, Ye shall not eat of it, neither shall ye touch it, lest ye die.'"
            ]
          },
          "metadata": {
            "tags": []
          },
          "execution_count": 53
        }
      ]
    },
    {
      "metadata": {
        "id": "TQEoNtD9Yg2y",
        "colab_type": "code",
        "colab": {}
      },
      "cell_type": "code",
      "source": [
        "import pandas as pd"
      ],
      "execution_count": 0,
      "outputs": []
    },
    {
      "metadata": {
        "id": "s4x-NpqtYg20",
        "colab_type": "code",
        "colab": {}
      },
      "cell_type": "code",
      "source": [
        "df = pd.DataFrame({'pi':texto_portugues,'px':texto_ingles})"
      ],
      "execution_count": 0,
      "outputs": []
    },
    {
      "metadata": {
        "id": "QMUp8QzDYg23",
        "colab_type": "code",
        "colab": {},
        "outputId": "14dadd60-0198-4f14-be20-46f1ada6a40e"
      },
      "cell_type": "code",
      "source": [
        "df.head()"
      ],
      "execution_count": 0,
      "outputs": [
        {
          "output_type": "execute_result",
          "data": {
            "text/html": [
              "<div>\n",
              "<style>\n",
              "    .dataframe thead tr:only-child th {\n",
              "        text-align: right;\n",
              "    }\n",
              "\n",
              "    .dataframe thead th {\n",
              "        text-align: left;\n",
              "    }\n",
              "\n",
              "    .dataframe tbody tr th {\n",
              "        vertical-align: top;\n",
              "    }\n",
              "</style>\n",
              "<table border=\"1\" class=\"dataframe\">\n",
              "  <thead>\n",
              "    <tr style=\"text-align: right;\">\n",
              "      <th></th>\n",
              "      <th>pi</th>\n",
              "      <th>px</th>\n",
              "    </tr>\n",
              "  </thead>\n",
              "  <tbody>\n",
              "    <tr>\n",
              "      <th>0</th>\n",
              "      <td>1  Ora, a serpente era mais astuta que todas a...</td>\n",
              "      <td>1 Now the serpent was more subtil than any bea...</td>\n",
              "    </tr>\n",
              "    <tr>\n",
              "      <th>1</th>\n",
              "      <td>2  E disse a mulher à serpente: Do fruto das á...</td>\n",
              "      <td>2 And the woman said unto the serpent, We may ...</td>\n",
              "    </tr>\n",
              "    <tr>\n",
              "      <th>2</th>\n",
              "      <td>3  mas, do fruto da árvore que está no meio do...</td>\n",
              "      <td>3 But of the fruit of the tree which is in the...</td>\n",
              "    </tr>\n",
              "    <tr>\n",
              "      <th>3</th>\n",
              "      <td>4  Então, a serpente disse à mulher: Certament...</td>\n",
              "      <td>4 And the serpent said unto the woman, Ye shal...</td>\n",
              "    </tr>\n",
              "    <tr>\n",
              "      <th>4</th>\n",
              "      <td>5  Porque Deus sabe que, no dia em que dele co...</td>\n",
              "      <td>5 For God doth know that in the day ye eat the...</td>\n",
              "    </tr>\n",
              "  </tbody>\n",
              "</table>\n",
              "</div>"
            ],
            "text/plain": [
              "                                                  pi  \\\n",
              "0  1  Ora, a serpente era mais astuta que todas a...   \n",
              "1  2  E disse a mulher à serpente: Do fruto das á...   \n",
              "2  3  mas, do fruto da árvore que está no meio do...   \n",
              "3  4  Então, a serpente disse à mulher: Certament...   \n",
              "4  5  Porque Deus sabe que, no dia em que dele co...   \n",
              "\n",
              "                                                  px  \n",
              "0  1 Now the serpent was more subtil than any bea...  \n",
              "1  2 And the woman said unto the serpent, We may ...  \n",
              "2  3 But of the fruit of the tree which is in the...  \n",
              "3  4 And the serpent said unto the woman, Ye shal...  \n",
              "4  5 For God doth know that in the day ye eat the...  "
            ]
          },
          "metadata": {
            "tags": []
          },
          "execution_count": 56
        }
      ]
    },
    {
      "metadata": {
        "id": "0cnAW9OAYg28",
        "colab_type": "code",
        "colab": {}
      },
      "cell_type": "code",
      "source": [
        "arquivo = 'biblia_{}_{}.csv'.format(livro,cap)"
      ],
      "execution_count": 0,
      "outputs": []
    },
    {
      "metadata": {
        "id": "3Mi9jwXBYg3A",
        "colab_type": "code",
        "colab": {}
      },
      "cell_type": "code",
      "source": [
        "df.to_csv(arquivo,index=False)"
      ],
      "execution_count": 0,
      "outputs": []
    },
    {
      "metadata": {
        "id": "bcd1DotpYg3C",
        "colab_type": "code",
        "colab": {},
        "outputId": "bdfbec5f-d3a2-45f7-ce5a-a10c8c54ca1a"
      },
      "cell_type": "code",
      "source": [
        "arquivo"
      ],
      "execution_count": 0,
      "outputs": [
        {
          "output_type": "execute_result",
          "data": {
            "text/plain": [
              "'biblia_01_3.csv'"
            ]
          },
          "metadata": {
            "tags": []
          },
          "execution_count": 59
        }
      ]
    },
    {
      "metadata": {
        "id": "t0st8cEjYg3F",
        "colab_type": "code",
        "colab": {}
      },
      "cell_type": "code",
      "source": [
        ""
      ],
      "execution_count": 0,
      "outputs": []
    }
  ]
}